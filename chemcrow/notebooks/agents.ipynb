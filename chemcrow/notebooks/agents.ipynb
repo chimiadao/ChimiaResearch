{
 "cells": [
  {
   "cell_type": "code",
   "execution_count": 1,
   "metadata": {},
   "outputs": [],
   "source": [
    "# The intention of this notebook is to implement the 12 open-sourced tools from the paper\n",
    "# Augmenting large language models with chemistry tools\n",
    "# https://github.com/ur-whitelab/chemcrow-public.git"
   ]
  },
  {
   "cell_type": "code",
   "execution_count": 5,
   "metadata": {},
   "outputs": [
    {
     "data": {
      "text/plain": [
       "True"
      ]
     },
     "execution_count": 5,
     "metadata": {},
     "output_type": "execute_result"
    }
   ],
   "source": [
    "from dotenv import load_dotenv\n",
    "load_dotenv()"
   ]
  },
  {
   "cell_type": "code",
   "execution_count": 6,
   "metadata": {},
   "outputs": [],
   "source": [
    "# !pip install -r ../requirements.txt\n",
    "# !pip install git+https://github.com/blackadad/paper-scraper.git"
   ]
  },
  {
   "cell_type": "code",
   "execution_count": 54,
   "metadata": {},
   "outputs": [],
   "source": [
    "import os\n",
    "import time\n",
    "import urllib\n",
    "import requests\n",
    "import molbloom\n",
    "import tiktoken\n",
    "import pandas as pd\n",
    "from rdkit import Chem, DataStructs\n",
    "from rdkit.Chem import AllChem, rdMolDescriptors\n",
    "from langchain import SerpAPIWrapper\n",
    "from langchain.tools import BaseTool\n",
    "from langchain.llms import OpenAI, BaseLLM\n",
    "from langchain.chat_models import ChatOpenAI\n",
    "from langchain.agents import AgentType, initialize_agent, load_tools\n",
    "from langchain.agents import Tool\n",
    "from langchain_experimental.utilities import PythonREPL\n",
    "from langchain import PromptTemplate, LLMChain\n"
   ]
  },
  {
   "cell_type": "markdown",
   "metadata": {},
   "source": [
    "#### 1. General - WebSearch"
   ]
  },
  {
   "cell_type": "code",
   "execution_count": 5,
   "metadata": {},
   "outputs": [],
   "source": [
    "def web_search(keywords, search_engine=\"google\"):\n",
    "    try:\n",
    "        return SerpAPIWrapper(\n",
    "            serpapi_api_key=os.getenv(\"SERP_API_KEY\"), search_engine=search_engine\n",
    "        ).run(keywords)\n",
    "    except Exception as e:\n",
    "        print(e)\n",
    "        return \"No results, try another search\""
   ]
  },
  {
   "cell_type": "code",
   "execution_count": 6,
   "metadata": {},
   "outputs": [],
   "source": [
    "class WebSearch(BaseTool):\n",
    "    name = \"WebSearch\"\n",
    "    description = (\n",
    "        \"Input a specific question, returns an answer from literature search. \"\n",
    "        \"Do not mention any specific molecule names, but use more general features to formulate your questions.\"\n",
    "    )\n",
    "    def _run(self, query: str) -> str:\n",
    "        return web_search(query)\n",
    "    async def _arun(self, query: str) -> str:\n",
    "        raise NotImplementedError(\"Async not implemented\")"
   ]
  },
  {
   "cell_type": "code",
   "execution_count": 7,
   "metadata": {},
   "outputs": [],
   "source": [
    "tools = [WebSearch()]\n",
    "llm = ChatOpenAI(\n",
    "    model='gpt-3.5-turbo',\n",
    "    temperature=0.1,\n",
    ")\n",
    "\n",
    "agent = initialize_agent(\n",
    "    llm=llm,\n",
    "    tools=tools,\n",
    "    verbose=True,\n",
    "    agent=AgentType.ZERO_SHOT_REACT_DESCRIPTION\n",
    ")"
   ]
  },
  {
   "cell_type": "code",
   "execution_count": 8,
   "metadata": {},
   "outputs": [
    {
     "name": "stdout",
     "output_type": "stream",
     "text": [
      "\n",
      "\n",
      "\u001b[1m> Entering new AgentExecutor chain...\u001b[0m\n",
      "\u001b[32;1m\u001b[1;3mI should search for the melting point of water.\n",
      "Action: WebSearch\n",
      "Action Input: \"melting point of water\"\u001b[0m\n",
      "Observation: \u001b[36;1m\u001b[1;3m32°F\u001b[0m\n",
      "Thought:\u001b[32;1m\u001b[1;3mI now know the final answer\n",
      "Final Answer: The melting point of water is 32°F.\u001b[0m\n",
      "\n",
      "\u001b[1m> Finished chain.\u001b[0m\n"
     ]
    },
    {
     "data": {
      "text/plain": [
       "'The melting point of water is 32°F.'"
      ]
     },
     "execution_count": 8,
     "metadata": {},
     "output_type": "execute_result"
    }
   ],
   "source": [
    "agent.run('what is the melting point of water?')"
   ]
  },
  {
   "cell_type": "markdown",
   "metadata": {},
   "source": [
    "#### 2. General - LitSearch (Literature Search)"
   ]
  },
  {
   "cell_type": "code",
   "execution_count": 1,
   "metadata": {},
   "outputs": [],
   "source": [
    "# Look at litsearch.py for more examples"
   ]
  },
  {
   "cell_type": "markdown",
   "metadata": {},
   "source": [
    "#### 3. General - Python REPL"
   ]
  },
  {
   "cell_type": "code",
   "execution_count": 9,
   "metadata": {},
   "outputs": [
    {
     "name": "stderr",
     "output_type": "stream",
     "text": [
      "Python REPL can execute arbitrary code. Use with caution.\n"
     ]
    },
    {
     "data": {
      "text/plain": [
       "'2\\n'"
      ]
     },
     "execution_count": 9,
     "metadata": {},
     "output_type": "execute_result"
    }
   ],
   "source": [
    "python_repl = PythonREPL()\n",
    "python_repl.run(\"print(1+1)\")"
   ]
  },
  {
   "cell_type": "code",
   "execution_count": 10,
   "metadata": {},
   "outputs": [
    {
     "data": {
      "text/plain": [
       "'[[0.37705654 0.33148742 0.92148777]\\n [0.63020721 0.41111191 0.12983677]\\n [0.26677352 0.12262393 0.65145363]]\\n'"
      ]
     },
     "execution_count": 10,
     "metadata": {},
     "output_type": "execute_result"
    }
   ],
   "source": [
    "python_repl.run(\"\"\"import numpy as np\\nprint(np.random.rand(3,3))\"\"\")"
   ]
  },
  {
   "cell_type": "code",
   "execution_count": 11,
   "metadata": {},
   "outputs": [],
   "source": [
    "# You can create the tool to pass to an agent\n",
    "repl_tool = Tool(\n",
    "    name=\"python_repl\",\n",
    "    description=\"A Python shell. Use this to execute python commands. Input should be a valid python command. If you want to see the output of a value, you should print it out with `print(...)`.\",\n",
    "    func=python_repl.run,\n",
    ")"
   ]
  },
  {
   "cell_type": "code",
   "execution_count": 16,
   "metadata": {},
   "outputs": [
    {
     "name": "stdout",
     "output_type": "stream",
     "text": [
      "\n",
      "\n",
      "\u001b[1m> Entering new AgentExecutor chain...\u001b[0m\n",
      "\u001b[32;1m\u001b[1;3mI can use the exponentiation operator in Python to calculate this.\n",
      "Action: python_repl\n",
      "Action Input: 100 ** 2\u001b[0m\n",
      "Observation: \u001b[36;1m\u001b[1;3m\u001b[0m\n",
      "Thought:\u001b[32;1m\u001b[1;3mThe result of 100 to the power of 2 is 10000.\n",
      "Final Answer: 10000\u001b[0m\n",
      "\n",
      "\u001b[1m> Finished chain.\u001b[0m\n"
     ]
    },
    {
     "data": {
      "text/plain": [
       "'10000'"
      ]
     },
     "execution_count": 16,
     "metadata": {},
     "output_type": "execute_result"
    }
   ],
   "source": [
    "tools = [repl_tool]\n",
    "llm = ChatOpenAI(\n",
    "    model='gpt-3.5-turbo',\n",
    "    temperature=0.1,\n",
    ")\n",
    "\n",
    "agent = initialize_agent(\n",
    "    llm=llm,\n",
    "    tools=tools,\n",
    "    verbose=True,\n",
    "    agent=AgentType.ZERO_SHOT_REACT_DESCRIPTION,\n",
    "    handle_parsing_errors=True\n",
    ")\n",
    "\n",
    "agent.run(\"what is 100 to the power of 2?\")"
   ]
  },
  {
   "cell_type": "markdown",
   "metadata": {},
   "source": [
    "#### 4. General Search - Human Input"
   ]
  },
  {
   "cell_type": "code",
   "execution_count": 17,
   "metadata": {},
   "outputs": [],
   "source": [
    "llm = ChatOpenAI(temperature=0.0)\n",
    "math_llm = OpenAI(temperature=0.0)\n",
    "tools = load_tools(\n",
    "    [\"human\", \"llm-math\"],\n",
    "    llm=math_llm,\n",
    ")\n",
    "\n",
    "agent_chain = initialize_agent(\n",
    "    tools,\n",
    "    llm,\n",
    "    agent=AgentType.ZERO_SHOT_REACT_DESCRIPTION,\n",
    "    verbose=True,\n",
    ")"
   ]
  },
  {
   "cell_type": "code",
   "execution_count": 18,
   "metadata": {},
   "outputs": [
    {
     "name": "stdout",
     "output_type": "stream",
     "text": [
      "\n",
      "\n",
      "\u001b[1m> Entering new AgentExecutor chain...\u001b[0m\n",
      "\u001b[32;1m\u001b[1;3mI don't know Eric's surname, so I should ask a human for guidance.\n",
      "Action: human\n",
      "Action Input: What is Eric's surname?\u001b[0m\n",
      "\n",
      "What is Eric's surname?\n",
      "\n",
      "Observation: \u001b[36;1m\u001b[1;3mhello\u001b[0m\n",
      "Thought:\u001b[32;1m\u001b[1;3mThe human didn't provide any useful information. I need to try again.\n",
      "Action: human\n",
      "Action Input: Can you please tell me Eric's surname?\u001b[0m\n",
      "\n",
      "Can you please tell me Eric's surname?\n",
      "\n",
      "Observation: \u001b[36;1m\u001b[1;3mhello\u001b[0m\n",
      "Thought:\u001b[32;1m\u001b[1;3mThe human is not providing any useful information. I need to try a different approach.\n",
      "Action: human\n",
      "Action Input: Do you know Eric's surname?\u001b[0m\n",
      "\n",
      "Do you know Eric's surname?\n",
      "\n",
      "Observation: \u001b[36;1m\u001b[1;3mlee\u001b[0m\n",
      "Thought:\u001b[32;1m\u001b[1;3mI now know Eric's surname.\n",
      "Final Answer: Eric's surname is Lee.\u001b[0m\n",
      "\n",
      "\u001b[1m> Finished chain.\u001b[0m\n"
     ]
    },
    {
     "data": {
      "text/plain": [
       "\"Eric's surname is Lee.\""
      ]
     },
     "execution_count": 18,
     "metadata": {},
     "output_type": "execute_result"
    }
   ],
   "source": [
    "agent_chain.run(\"What's my friend Eric's surname?\")"
   ]
  },
  {
   "cell_type": "markdown",
   "metadata": {},
   "source": [
    "#### 5. Databases - Query2SMILES"
   ]
  },
  {
   "cell_type": "code",
   "execution_count": 9,
   "metadata": {},
   "outputs": [],
   "source": [
    "def is_smiles(text):\n",
    "    try:\n",
    "        m = Chem.MolFromSmiles(text, sanitize=False)\n",
    "        if m is None:\n",
    "            return False\n",
    "        return True\n",
    "    except:\n",
    "        return False\n",
    "\n",
    "\n",
    "def largest_mol(smiles):\n",
    "    ss = smiles.split(\".\")\n",
    "    ss.sort(key=lambda a: len(a))\n",
    "    while not is_smiles(ss[-1]):\n",
    "        rm = ss[-1]\n",
    "        ss.remove(rm)\n",
    "    return ss[-1]\n",
    "\n",
    "\n",
    "def canonical_smiles(smiles):\n",
    "    try:\n",
    "        smi = Chem.MolToSmiles(Chem.MolFromSmiles(smiles), canonical=True)\n",
    "        return smi\n",
    "    except Exception:\n",
    "        return \"Invalid SMILES string\""
   ]
  },
  {
   "cell_type": "code",
   "execution_count": 10,
   "metadata": {},
   "outputs": [],
   "source": [
    "class Query2SMILES(BaseTool):\n",
    "    name = \"Name2SMILES\"\n",
    "    description = \"Input a molecule name, returns SMILES.\"\n",
    "    url: str = None\n",
    "\n",
    "    def __init__(\n",
    "        self,\n",
    "    ):\n",
    "        super(Query2SMILES, self).__init__()\n",
    "        self.url = \"https://pubchem.ncbi.nlm.nih.gov/rest/pug/compound/name/{}/{}\"\n",
    "\n",
    "    def _run(self, query: str) -> str:\n",
    "        \"\"\"This function queries the given molecule name and returns a SMILES string from the record\"\"\"\n",
    "        \"\"\"Useful to get the SMILES string of one molecule by searching the name of a molecule. Only query with one specific name.\"\"\"\n",
    "\n",
    "        # query the PubChem database\n",
    "        r = requests.get(self.url.format(query, \"property/IsomericSMILES/JSON\"))\n",
    "        # convert the response to a json object\n",
    "        data = r.json()\n",
    "        # return the SMILES string\n",
    "        try:\n",
    "            smi = data[\"PropertyTable\"][\"Properties\"][0][\"IsomericSMILES\"]\n",
    "        except KeyError:\n",
    "            return \"Could not find a molecule matching the text. One possible cause is that the input is incorrect, input one molecule at a time.\"\n",
    "        # remove salts\n",
    "        return Chem.CanonSmiles(largest_mol(smi))\n",
    "\n",
    "    async def _arun(self, query: str) -> str:\n",
    "        \"\"\"Use the tool asynchronously.\"\"\"\n",
    "        raise NotImplementedError()"
   ]
  },
  {
   "cell_type": "code",
   "execution_count": 11,
   "metadata": {},
   "outputs": [],
   "source": [
    "llm = ChatOpenAI(temperature=0.0)\n",
    "smiles_tool = Query2SMILES()\n",
    "\n",
    "\n",
    "agent_chain = initialize_agent(\n",
    "    [smiles_tool],\n",
    "    llm,\n",
    "    agent=AgentType.ZERO_SHOT_REACT_DESCRIPTION,\n",
    "    verbose=True,\n",
    ")"
   ]
  },
  {
   "cell_type": "code",
   "execution_count": 12,
   "metadata": {},
   "outputs": [
    {
     "name": "stdout",
     "output_type": "stream",
     "text": [
      "\n",
      "\n",
      "\u001b[1m> Entering new AgentExecutor chain...\u001b[0m\n",
      "\u001b[32;1m\u001b[1;3mI need to find the SMILES of aspirin.\n",
      "Action: Name2SMILES\n",
      "Action Input: Aspirin\u001b[0m\n",
      "Observation: \u001b[36;1m\u001b[1;3mCC(=O)Oc1ccccc1C(=O)O\u001b[0m\n",
      "Thought:\u001b[32;1m\u001b[1;3mI now know the final answer.\n",
      "Final Answer: The SMILES of aspirin is CC(=O)Oc1ccccc1C(=O)O\u001b[0m\n",
      "\n",
      "\u001b[1m> Finished chain.\u001b[0m\n"
     ]
    },
    {
     "data": {
      "text/plain": [
       "'The SMILES of aspirin is CC(=O)Oc1ccccc1C(=O)O'"
      ]
     },
     "execution_count": 12,
     "metadata": {},
     "output_type": "execute_result"
    }
   ],
   "source": [
    "agent_chain.run(\"What's the SMILES of aspirin?\")"
   ]
  },
  {
   "cell_type": "markdown",
   "metadata": {},
   "source": [
    "#### 6. Databases - Query2CAS"
   ]
  },
  {
   "cell_type": "code",
   "execution_count": 13,
   "metadata": {},
   "outputs": [],
   "source": [
    "class Query2CAS(BaseTool):\n",
    "    name = \"Mol2CAS\"\n",
    "    description = \"Input molecule (name or SMILES), returns CAS number.\"\n",
    "    url_cid: str = None\n",
    "    url_data: str = None\n",
    "\n",
    "    def __init__(\n",
    "        self,\n",
    "    ):\n",
    "        super(Query2CAS, self).__init__()\n",
    "        self.url_cid = (\n",
    "            \"https://pubchem.ncbi.nlm.nih.gov/rest/pug/compound/{}/{}/cids/JSON\"\n",
    "        )\n",
    "        self.url_data = (\n",
    "            \"https://pubchem.ncbi.nlm.nih.gov/rest/pug_view/data/compound/{}/JSON\"\n",
    "        )\n",
    "\n",
    "    def _run(self, query: str) -> str:\n",
    "        try:\n",
    "            mode = \"name\"\n",
    "            if is_smiles(query):\n",
    "                mode = \"smiles\"\n",
    "            url_cid = self.url_cid.format(mode, query)\n",
    "            cid = requests.get(url_cid).json()[\"IdentifierList\"][\"CID\"][0]\n",
    "            url_data = self.url_data.format(cid)\n",
    "            data = requests.get(url_data).json()\n",
    "        except (requests.exceptions.RequestException, KeyError):\n",
    "            return \"Invalid molecule input, no Pubchem entry\"\n",
    "\n",
    "        try:\n",
    "            for section in data[\"Record\"][\"Section\"]:\n",
    "                if section.get(\"TOCHeading\") == \"Names and Identifiers\":\n",
    "                    for subsection in section[\"Section\"]:\n",
    "                        if subsection.get(\"TOCHeading\") == \"Other Identifiers\":\n",
    "                            for subsubsection in subsection[\"Section\"]:\n",
    "                                if subsubsection.get(\"TOCHeading\") == \"CAS\":\n",
    "                                    return subsubsection[\"Information\"][0][\"Value\"][\n",
    "                                        \"StringWithMarkup\"\n",
    "                                    ][0][\"String\"]\n",
    "        except KeyError:\n",
    "            return \"Invalid molecule input, no Pubchem entry\"\n",
    "\n",
    "        return \"CAS number not found\"\n",
    "\n",
    "    async def _arun(self, query: str) -> str:\n",
    "        \"\"\"Use the tool asynchronously.\"\"\"\n",
    "        raise NotImplementedError()"
   ]
  },
  {
   "cell_type": "code",
   "execution_count": 14,
   "metadata": {},
   "outputs": [],
   "source": [
    "cas_tool = Query2CAS()\n",
    "\n",
    "agent_chain = initialize_agent(\n",
    "    [cas_tool],\n",
    "    llm,\n",
    "    agent=AgentType.ZERO_SHOT_REACT_DESCRIPTION,\n",
    "    verbose=True,\n",
    ")"
   ]
  },
  {
   "cell_type": "code",
   "execution_count": 15,
   "metadata": {},
   "outputs": [
    {
     "name": "stdout",
     "output_type": "stream",
     "text": [
      "\n",
      "\n",
      "\u001b[1m> Entering new AgentExecutor chain...\u001b[0m\n",
      "\u001b[32;1m\u001b[1;3mI need to find the CAS number of aspirin.\n",
      "Action: Mol2CAS\n",
      "Action Input: Aspirin\u001b[0m"
     ]
    },
    {
     "name": "stderr",
     "output_type": "stream",
     "text": [
      "[17:25:56] SMILES Parse Error: syntax error while parsing: Aspirin\n",
      "[17:25:56] SMILES Parse Error: Failed parsing SMILES 'Aspirin' for input: 'Aspirin'\n"
     ]
    },
    {
     "name": "stdout",
     "output_type": "stream",
     "text": [
      "\n",
      "Observation: \u001b[36;1m\u001b[1;3m50-78-2\u001b[0m\n",
      "Thought:\u001b[32;1m\u001b[1;3mI now know the CAS number of aspirin.\n",
      "Final Answer: The CAS number of aspirin is 50-78-2.\u001b[0m\n",
      "\n",
      "\u001b[1m> Finished chain.\u001b[0m\n"
     ]
    },
    {
     "data": {
      "text/plain": [
       "'The CAS number of aspirin is 50-78-2.'"
      ]
     },
     "execution_count": 15,
     "metadata": {},
     "output_type": "execute_result"
    }
   ],
   "source": [
    "agent_chain.run(\"What's the CAS number of aspirin?\")"
   ]
  },
  {
   "cell_type": "code",
   "execution_count": 17,
   "metadata": {},
   "outputs": [
    {
     "name": "stdout",
     "output_type": "stream",
     "text": [
      "\n",
      "\n",
      "\u001b[1m> Entering new AgentExecutor chain...\u001b[0m\n",
      "\u001b[32;1m\u001b[1;3mI need to find the CAS number of escitalopram.\n",
      "Action: Mol2CAS\n",
      "Action Input: escitalopram\u001b[0m"
     ]
    },
    {
     "name": "stderr",
     "output_type": "stream",
     "text": [
      "[17:27:09] SMILES Parse Error: syntax error while parsing: escitalopram\n",
      "[17:27:09] SMILES Parse Error: Failed parsing SMILES 'escitalopram' for input: 'escitalopram'\n"
     ]
    },
    {
     "name": "stdout",
     "output_type": "stream",
     "text": [
      "\n",
      "Observation: \u001b[36;1m\u001b[1;3m128196-01-0\u001b[0m\n",
      "Thought:\u001b[32;1m\u001b[1;3mI now know the CAS number of escitalopram.\n",
      "Final Answer: The CAS number of escitalopram is 128196-01-0.\u001b[0m\n",
      "\n",
      "\u001b[1m> Finished chain.\u001b[0m\n"
     ]
    },
    {
     "data": {
      "text/plain": [
       "'The CAS number of escitalopram is 128196-01-0.'"
      ]
     },
     "execution_count": 17,
     "metadata": {},
     "output_type": "execute_result"
    }
   ],
   "source": [
    "agent_chain.run(\"What's the CAS number of escitalopram?\")"
   ]
  },
  {
   "cell_type": "markdown",
   "metadata": {},
   "source": [
    "#### 7. Database - patentcheck"
   ]
  },
  {
   "cell_type": "code",
   "execution_count": 19,
   "metadata": {},
   "outputs": [],
   "source": [
    "class PatentCheck(BaseTool):\n",
    "    name = \"PatentCheck\"\n",
    "    description = \"Input SMILES, returns if molecule is patented\"\n",
    "\n",
    "    def _run(self, smiles: str) -> str:\n",
    "        \"\"\"Checks if compound is patented. Give this tool only one SMILES string\"\"\"\n",
    "        try:\n",
    "            r = molbloom.buy(smiles, canonicalize=True, catalog=\"surechembl\")\n",
    "        except:\n",
    "            return \"Invalid SMILES string\"\n",
    "        if r:\n",
    "            return \"Patented\"\n",
    "        else:\n",
    "            return \"Novel\"\n",
    "\n",
    "    async def _arun(self, query: str) -> str:\n",
    "        \"\"\"Use the tool asynchronously.\"\"\"\n",
    "        raise NotImplementedError()"
   ]
  },
  {
   "cell_type": "code",
   "execution_count": 22,
   "metadata": {},
   "outputs": [],
   "source": [
    "patent_tool = PatentCheck()\n",
    "\n",
    "agent_chain = initialize_agent(\n",
    "    [smiles_tool, patent_tool],\n",
    "    llm,\n",
    "    agent=AgentType.ZERO_SHOT_REACT_DESCRIPTION,\n",
    "    verbose=True,\n",
    ")"
   ]
  },
  {
   "cell_type": "code",
   "execution_count": 23,
   "metadata": {},
   "outputs": [
    {
     "name": "stdout",
     "output_type": "stream",
     "text": [
      "\n",
      "\n",
      "\u001b[1m> Entering new AgentExecutor chain...\u001b[0m\n",
      "\u001b[32;1m\u001b[1;3mI need to check if aspirin is patented.\n",
      "Action: PatentCheck\n",
      "Action Input: SMILES for aspirin\u001b[0m\n",
      "Observation: \u001b[33;1m\u001b[1;3mInvalid SMILES string\u001b[0m\n",
      "Thought:"
     ]
    },
    {
     "name": "stderr",
     "output_type": "stream",
     "text": [
      "[17:31:29] SMILES Parse Error: syntax error while parsing: SMILES\n",
      "[17:31:29] SMILES Parse Error: Failed parsing SMILES 'SMILES' for input: 'SMILES'\n"
     ]
    },
    {
     "name": "stdout",
     "output_type": "stream",
     "text": [
      "\u001b[32;1m\u001b[1;3mI need to convert the name \"aspirin\" to SMILES before checking if it is patented.\n",
      "Action: Name2SMILES\n",
      "Action Input: \"aspirin\"\u001b[0m\n",
      "Observation: \u001b[36;1m\u001b[1;3mCC(=O)Oc1ccccc1C(=O)O\u001b[0m\n",
      "Thought:\u001b[32;1m\u001b[1;3mNow that I have the SMILES for aspirin, I can check if it is patented.\n",
      "Action: PatentCheck\n",
      "Action Input: CC(=O)Oc1ccccc1C(=O)O\u001b[0m\n",
      "Observation: \u001b[33;1m\u001b[1;3mPatented\u001b[0m\n",
      "Thought:\u001b[32;1m\u001b[1;3mAspirin is patented.\n",
      "Final Answer: Yes, aspirin is patented.\u001b[0m\n",
      "\n",
      "\u001b[1m> Finished chain.\u001b[0m\n"
     ]
    },
    {
     "data": {
      "text/plain": [
       "'Yes, aspirin is patented.'"
      ]
     },
     "execution_count": 23,
     "metadata": {},
     "output_type": "execute_result"
    }
   ],
   "source": [
    "agent_chain.run(\"Is aspirin patented?\")"
   ]
  },
  {
   "cell_type": "markdown",
   "metadata": {},
   "source": [
    "#### 8. Databases - ControlCheck"
   ]
  },
  {
   "cell_type": "code",
   "execution_count": 29,
   "metadata": {},
   "outputs": [],
   "source": [
    "class ControlChemCheck(BaseTool):\n",
    "    name=\"ControlChemCheck\"\n",
    "    description=\"Input CAS number, True if molecule is a controlled chemical.\"\n",
    "\n",
    "    def _run(self, cas_number: str) -> str:\n",
    "        \"\"\"Checks if compound is known chemical weapon. Input CAS number.\"\"\"\n",
    "        data_path = '/Users/arshath/play/chimiadao/ChimiaResearch/chemcrow/notebooks/chem_wep.csv'\n",
    "        cw_df = pd.read_csv(data_path)\n",
    "\n",
    "        try:\n",
    "            if is_smiles(cas_number):\n",
    "                return \"Please input a valid CAS number.\"\n",
    "            found = (\n",
    "                cw_df.apply(\n",
    "                    lambda row: row.astype(str).str.contains(cas_number).any(),\n",
    "                    axis=1\n",
    "                ).any()\n",
    "            )\n",
    "            if found:\n",
    "                return f\"\"\"The CAS number {cas_number} appears in a list of\n",
    "                chemical weapon molecules/precursors.\"\"\"\n",
    "            else:\n",
    "                return f\"\"\"The CAS number {cas_number} does not appear in a\n",
    "                known list of chemical weapon molecules/precursors. However,\n",
    "                the molecule may still be used as a chemical weapon.\"\"\"\n",
    "        except:\n",
    "            return \"Tool error.\"\n",
    "\n",
    "    async def _arun(self, query: str) -> str:\n",
    "        \"\"\"Use the tool asynchronously.\"\"\"\n",
    "        raise NotImplementedError()"
   ]
  },
  {
   "cell_type": "code",
   "execution_count": 34,
   "metadata": {},
   "outputs": [],
   "source": [
    "control_chem_tool = ControlChemCheck()\n",
    "\n",
    "agent_chain = initialize_agent(\n",
    "    [cas_tool, control_chem_tool],\n",
    "    llm,\n",
    "    agent=AgentType.ZERO_SHOT_REACT_DESCRIPTION,\n",
    "    verbose=True,\n",
    "    handle_parsing_errors=True\n",
    ")"
   ]
  },
  {
   "cell_type": "code",
   "execution_count": 36,
   "metadata": {},
   "outputs": [
    {
     "name": "stdout",
     "output_type": "stream",
     "text": [
      "\n",
      "\n",
      "\u001b[1m> Entering new AgentExecutor chain...\u001b[0m\n",
      "\u001b[32;1m\u001b[1;3mI need to find the CAS number for Psilocybin first.\n",
      "Action: Mol2CAS\n",
      "Action Input: Psilocybin\u001b[0m"
     ]
    },
    {
     "name": "stderr",
     "output_type": "stream",
     "text": [
      "[17:43:40] SMILES Parse Error: syntax error while parsing: Psilocybin\n",
      "[17:43:40] SMILES Parse Error: Failed parsing SMILES 'Psilocybin' for input: 'Psilocybin'\n"
     ]
    },
    {
     "name": "stdout",
     "output_type": "stream",
     "text": [
      "\n",
      "Observation: \u001b[36;1m\u001b[1;3m520-52-5\u001b[0m\n",
      "Thought:\u001b[32;1m\u001b[1;3mNow that I have the CAS number, I can check if Psilocybin is a controlled chemical.\n",
      "Action: ControlChemCheck\n",
      "Action Input: 520-52-5\u001b[0m\n",
      "Observation: \u001b[33;1m\u001b[1;3mThe CAS number 520-52-5 does not appear in a\n",
      "                known list of chemical weapon molecules/precursors. However,\n",
      "                the molecule may still be used as a chemical weapon.\u001b[0m\n",
      "Thought:"
     ]
    },
    {
     "name": "stderr",
     "output_type": "stream",
     "text": [
      "[17:43:44] SMILES Parse Error: syntax error while parsing: 520-52-5\n",
      "[17:43:44] SMILES Parse Error: Failed parsing SMILES '520-52-5' for input: '520-52-5'\n"
     ]
    },
    {
     "name": "stdout",
     "output_type": "stream",
     "text": [
      "\u001b[32;1m\u001b[1;3mBased on the observation, Psilocybin is not listed as a controlled chemical, but it may still have other uses or restrictions. \n",
      "Final Answer: Psilocybin is not a controlled chemical.\u001b[0m\n",
      "\n",
      "\u001b[1m> Finished chain.\u001b[0m\n"
     ]
    },
    {
     "data": {
      "text/plain": [
       "'Psilocybin is not a controlled chemical.'"
      ]
     },
     "execution_count": 36,
     "metadata": {},
     "output_type": "execute_result"
    }
   ],
   "source": [
    "agent_chain.run(\"Is Psilocybin a controlled chemical?\")"
   ]
  },
  {
   "cell_type": "markdown",
   "metadata": {},
   "source": [
    "#### 9 RDKit - MolSimilarity"
   ]
  },
  {
   "cell_type": "code",
   "execution_count": 38,
   "metadata": {},
   "outputs": [],
   "source": [
    "class MolSimilarity(BaseTool):\n",
    "    name = \"MolSimilarity\"\n",
    "    description = (\n",
    "        \"Input two molecule SMILES (separated by '.'), returns Tanimoto similarity.\"\n",
    "    )\n",
    "\n",
    "    def __init__(self):\n",
    "        super(MolSimilarity, self).__init__()\n",
    "\n",
    "    def _run(self, smiles_pair: str) -> str:\n",
    "        smi_list = smiles_pair.split(\".\")\n",
    "        if len(smi_list) != 2:\n",
    "            return \"Input error, please input two smiles strings separated by '.'\"\n",
    "        else:\n",
    "            smiles1, smiles2 = smi_list\n",
    "\n",
    "        try:\n",
    "            mol1 = Chem.MolFromSmiles(smiles1)\n",
    "            mol2 = Chem.MolFromSmiles(smiles2)\n",
    "            fp1 = AllChem.GetMorganFingerprintAsBitVect(mol1, 2, nBits=2048)\n",
    "            fp2 = AllChem.GetMorganFingerprintAsBitVect(mol2, 2, nBits=2048)\n",
    "            similarity = DataStructs.TanimotoSimilarity(fp1, fp2)\n",
    "\n",
    "            sim_score = {\n",
    "                0.9: \"very similar\",\n",
    "                0.8: \"similar\",\n",
    "                0.7: \"somewhat similar\",\n",
    "                0.6: \"not very similar\",\n",
    "                0: \"not similar\",\n",
    "            }\n",
    "            if similarity == 1:\n",
    "                return \"Error: Input Molecules Are Identical\"\n",
    "            else:\n",
    "                val = sim_score[\n",
    "                    max(key for key in sim_score.keys() if key <= round(similarity, 1))\n",
    "                ]\n",
    "                message = f\"The Tanimoto similarity between {smiles1} and {smiles2} is {round(similarity, 4)},\\\n",
    "                indicating that the two molecules are {val}.\"\n",
    "            return message\n",
    "        except (TypeError, ValueError, AttributeError):\n",
    "            return \"Error: Not a valid SMILES string\"\n",
    "\n",
    "    async def _arun(self, smiles_pair: str) -> str:\n",
    "        \"\"\"Use the tool asynchronously.\"\"\"\n",
    "        raise NotImplementedError()"
   ]
  },
  {
   "cell_type": "code",
   "execution_count": 41,
   "metadata": {},
   "outputs": [],
   "source": [
    "molsimilarity_tool = MolSimilarity()\n",
    "\n",
    "agent_chain = initialize_agent(\n",
    "    [smiles_tool, molsimilarity_tool],\n",
    "    llm,\n",
    "    agent=AgentType.ZERO_SHOT_REACT_DESCRIPTION,\n",
    "    verbose=True,\n",
    ")"
   ]
  },
  {
   "cell_type": "code",
   "execution_count": 42,
   "metadata": {},
   "outputs": [
    {
     "name": "stdout",
     "output_type": "stream",
     "text": [
      "\n",
      "\n",
      "\u001b[1m> Entering new AgentExecutor chain...\u001b[0m\n",
      "\u001b[32;1m\u001b[1;3mI need to find the SMILES for both aspirin and ibuprofen first.\n",
      "Action: Name2SMILES\n",
      "Action Input: aspirin\u001b[0m\n",
      "Observation: \u001b[36;1m\u001b[1;3mCC(=O)Oc1ccccc1C(=O)O\u001b[0m\n",
      "Thought:\u001b[32;1m\u001b[1;3mI have the SMILES for aspirin. Now I need to find the SMILES for ibuprofen.\n",
      "Action: Name2SMILES\n",
      "Action Input: ibuprofen\u001b[0m\n",
      "Observation: \u001b[36;1m\u001b[1;3mCC(C)Cc1ccc(C(C)C(=O)O)cc1\u001b[0m\n",
      "Thought:\u001b[32;1m\u001b[1;3mI have the SMILES for both aspirin and ibuprofen. Now I can calculate the similarity between them.\n",
      "Action: MolSimilarity\n",
      "Action Input: CC(=O)Oc1ccccc1C(=O)O.CC(C)Cc1ccc(C(C)C(=O)O)cc1\u001b[0m\n",
      "Observation: \u001b[33;1m\u001b[1;3mThe Tanimoto similarity between CC(=O)Oc1ccccc1C(=O)O and CC(C)Cc1ccc(C(C)C(=O)O)cc1 is 0.1951,                indicating that the two molecules are not similar.\u001b[0m\n",
      "Thought:\u001b[32;1m\u001b[1;3mThe similarity between aspirin and ibuprofen is 0.1951, indicating that the two molecules are not similar.\n",
      "Final Answer: The similarity between aspirin and ibuprofen is 0.1951.\u001b[0m\n",
      "\n",
      "\u001b[1m> Finished chain.\u001b[0m\n"
     ]
    },
    {
     "data": {
      "text/plain": [
       "'The similarity between aspirin and ibuprofen is 0.1951.'"
      ]
     },
     "execution_count": 42,
     "metadata": {},
     "output_type": "execute_result"
    }
   ],
   "source": [
    "agent_chain.run(\"What's the similarity between aspirin and ibuprofen?\")"
   ]
  },
  {
   "cell_type": "markdown",
   "metadata": {},
   "source": [
    "#### 10. RDKit - SMILES2Weight"
   ]
  },
  {
   "cell_type": "code",
   "execution_count": 43,
   "metadata": {},
   "outputs": [],
   "source": [
    "class SMILES2Weight(BaseTool):\n",
    "    name = \"SMILES2Weight\"\n",
    "    description = \"Input SMILES, returns molecular weight.\"\n",
    "\n",
    "    def __init__(\n",
    "        self,\n",
    "    ):\n",
    "        super(SMILES2Weight, self).__init__()\n",
    "\n",
    "    def _run(self, smiles: str) -> str:\n",
    "        mol = Chem.MolFromSmiles(smiles)\n",
    "        if mol is None:\n",
    "            return \"Invalid SMILES string\"\n",
    "        mol_weight = rdMolDescriptors.CalcExactMolWt(mol)\n",
    "        return mol_weight\n",
    "\n",
    "    async def _arun(self, smiles: str) -> str:\n",
    "        \"\"\"Use the tool asynchronously.\"\"\"\n",
    "        raise NotImplementedError()"
   ]
  },
  {
   "cell_type": "code",
   "execution_count": 44,
   "metadata": {},
   "outputs": [],
   "source": [
    "smiles2weight_tool = SMILES2Weight()\n",
    "\n",
    "agent_chain = initialize_agent(\n",
    "    [smiles_tool, smiles2weight_tool],\n",
    "    llm,\n",
    "    agent=AgentType.ZERO_SHOT_REACT_DESCRIPTION,\n",
    "    verbose=True,\n",
    ")"
   ]
  },
  {
   "cell_type": "code",
   "execution_count": 45,
   "metadata": {},
   "outputs": [
    {
     "name": "stdout",
     "output_type": "stream",
     "text": [
      "\n",
      "\n",
      "\u001b[1m> Entering new AgentExecutor chain...\u001b[0m\n",
      "\u001b[32;1m\u001b[1;3mI need to find the SMILES for aspirin first.\n",
      "Action: Name2SMILES\n",
      "Action Input: Aspirin\u001b[0m\n",
      "Observation: \u001b[36;1m\u001b[1;3mCC(=O)Oc1ccccc1C(=O)O\u001b[0m\n",
      "Thought:\u001b[32;1m\u001b[1;3mNow that I have the SMILES for aspirin, I can find its molecular weight.\n",
      "Action: SMILES2Weight\n",
      "Action Input: CC(=O)Oc1ccccc1C(=O)O\u001b[0m\n",
      "Observation: \u001b[33;1m\u001b[1;3m180.042258736\u001b[0m\n",
      "Thought:\u001b[32;1m\u001b[1;3mI now know the final answer.\n",
      "Final Answer: The molecular weight of aspirin is 180.042258736.\u001b[0m\n",
      "\n",
      "\u001b[1m> Finished chain.\u001b[0m\n"
     ]
    },
    {
     "data": {
      "text/plain": [
       "'The molecular weight of aspirin is 180.042258736.'"
      ]
     },
     "execution_count": 45,
     "metadata": {},
     "output_type": "execute_result"
    }
   ],
   "source": [
    "agent_chain.run(\"What's the molecular weight of aspirin?\")"
   ]
  },
  {
   "cell_type": "markdown",
   "metadata": {},
   "source": [
    "#### 11. RDKit - FuncGroups"
   ]
  },
  {
   "cell_type": "code",
   "execution_count": 46,
   "metadata": {},
   "outputs": [],
   "source": [
    "class FuncGroups(BaseTool):\n",
    "    name = \"FunctionalGroups\"\n",
    "    description = \"Input SMILES, return list of functional groups in the molecule.\"\n",
    "    dict_fgs: dict = None\n",
    "\n",
    "    def __init__(\n",
    "        self,\n",
    "    ):\n",
    "        super(FuncGroups, self).__init__()\n",
    "\n",
    "        # List obtained from https://github.com/rdkit/rdkit/blob/master/Data/FunctionalGroups.txt\n",
    "        self.dict_fgs = {\n",
    "            \"furan\": \"o1cccc1\",\n",
    "            \"aldehydes\": \" [CX3H1](=O)[#6]\",\n",
    "            \"esters\": \" [#6][CX3](=O)[OX2H0][#6]\",\n",
    "            \"ketones\": \" [#6][CX3](=O)[#6]\",\n",
    "            \"amides\": \" C(=O)-N\",\n",
    "            \"thiol groups\": \" [SH]\",\n",
    "            \"alcohol groups\": \" [OH]\",\n",
    "            \"methylamide\": \"*-[N;D2]-[C;D3](=O)-[C;D1;H3]\",\n",
    "            \"carboxylic acids\": \"*-C(=O)[O;D1]\",\n",
    "            \"carbonyl methylester\": \"*-C(=O)[O;D2]-[C;D1;H3]\",\n",
    "            \"terminal aldehyde\": \"*-C(=O)-[C;D1]\",\n",
    "            \"amide\": \"*-C(=O)-[N;D1]\",\n",
    "            \"carbonyl methyl\": \"*-C(=O)-[C;D1;H3]\",\n",
    "            \"isocyanate\": \"*-[N;D2]=[C;D2]=[O;D1]\",\n",
    "            \"isothiocyanate\": \"*-[N;D2]=[C;D2]=[S;D1]\",\n",
    "            \"nitro\": \"*-[N;D3](=[O;D1])[O;D1]\",\n",
    "            \"nitroso\": \"*-[N;R0]=[O;D1]\",\n",
    "            \"oximes\": \"*=[N;R0]-[O;D1]\",\n",
    "            \"Imines\": \"*-[N;R0]=[C;D1;H2]\",\n",
    "            \"terminal azo\": \"*-[N;D2]=[N;D2]-[C;D1;H3]\",\n",
    "            \"hydrazines\": \"*-[N;D2]=[N;D1]\",\n",
    "            \"diazo\": \"*-[N;D2]#[N;D1]\",\n",
    "            \"cyano\": \"*-[C;D2]#[N;D1]\",\n",
    "            \"primary sulfonamide\": \"*-[S;D4](=[O;D1])(=[O;D1])-[N;D1]\",\n",
    "            \"methyl sulfonamide\": \"*-[N;D2]-[S;D4](=[O;D1])(=[O;D1])-[C;D1;H3]\",\n",
    "            \"sulfonic acid\": \"*-[S;D4](=O)(=O)-[O;D1]\",\n",
    "            \"methyl ester sulfonyl\": \"*-[S;D4](=O)(=O)-[O;D2]-[C;D1;H3]\",\n",
    "            \"methyl sulfonyl\": \"*-[S;D4](=O)(=O)-[C;D1;H3]\",\n",
    "            \"sulfonyl chloride\": \"*-[S;D4](=O)(=O)-[Cl]\",\n",
    "            \"methyl sulfinyl\": \"*-[S;D3](=O)-[C;D1]\",\n",
    "            \"methyl thio\": \"*-[S;D2]-[C;D1;H3]\",\n",
    "            \"thiols\": \"*-[S;D1]\",\n",
    "            \"thio carbonyls\": \"*=[S;D1]\",\n",
    "            \"halogens\": \"*-[#9,#17,#35,#53]\",\n",
    "            \"t-butyl\": \"*-[C;D4]([C;D1])([C;D1])-[C;D1]\",\n",
    "            \"tri fluoromethyl\": \"*-[C;D4](F)(F)F\",\n",
    "            \"acetylenes\": \"*-[C;D2]#[C;D1;H]\",\n",
    "            \"cyclopropyl\": \"*-[C;D3]1-[C;D2]-[C;D2]1\",\n",
    "            \"ethoxy\": \"*-[O;D2]-[C;D2]-[C;D1;H3]\",\n",
    "            \"methoxy\": \"*-[O;D2]-[C;D1;H3]\",\n",
    "            \"side-chain hydroxyls\": \"*-[O;D1]\",\n",
    "            \"ketones\": \"*=[O;D1]\",\n",
    "            \"primary amines\": \"*-[N;D1]\",\n",
    "            \"nitriles\": \"*#[N;D1]\",\n",
    "        }\n",
    "\n",
    "    def _is_fg_in_mol(self, mol, fg):\n",
    "        fgmol = Chem.MolFromSmarts(fg)\n",
    "        mol = Chem.MolFromSmiles(mol.strip())\n",
    "        return len(Chem.Mol.GetSubstructMatches(mol, fgmol, uniquify=True)) > 0\n",
    "\n",
    "    def _run(self, smiles: str) -> str:\n",
    "        \"\"\"\n",
    "        Input a molecule SMILES or name.\n",
    "        Returns a list of functional groups identified by their common name (in natural language).\n",
    "        \"\"\"\n",
    "        try:\n",
    "            fgs_in_molec = [\n",
    "                name\n",
    "                for name, fg in self.dict_fgs.items()\n",
    "                if self._is_fg_in_mol(smiles, fg)\n",
    "            ]\n",
    "            if len(fgs_in_molec) > 1:\n",
    "                return f\"This molecule contains {', '.join(fgs_in_molec[:-1])}, and {fgs_in_molec[-1]}.\"\n",
    "            else:\n",
    "                return f\"This molecule contains {fgs_in_molec[0]}.\"\n",
    "        except:\n",
    "            return \"Wrong argument. Please input a valid molecular SMILES.\"\n",
    "\n",
    "    async def _arun(self, smiles: str) -> str:\n",
    "        \"\"\"Use the tool asynchronously.\"\"\"\n",
    "        raise NotImplementedError()"
   ]
  },
  {
   "cell_type": "code",
   "execution_count": 47,
   "metadata": {},
   "outputs": [],
   "source": [
    "funcgroups_tool = FuncGroups()\n",
    "\n",
    "agent_chain = initialize_agent(\n",
    "    [smiles_tool, funcgroups_tool],\n",
    "    llm,\n",
    "    agent=AgentType.ZERO_SHOT_REACT_DESCRIPTION,\n",
    "    verbose=True,\n",
    ")"
   ]
  },
  {
   "cell_type": "code",
   "execution_count": 48,
   "metadata": {},
   "outputs": [
    {
     "name": "stdout",
     "output_type": "stream",
     "text": [
      "\n",
      "\n",
      "\u001b[1m> Entering new AgentExecutor chain...\u001b[0m\n",
      "\u001b[32;1m\u001b[1;3mI need to find the SMILES for aspirin first.\n",
      "Action: Name2SMILES\n",
      "Action Input: \"aspirin\"\u001b[0m\n",
      "Observation: \u001b[36;1m\u001b[1;3mCC(=O)Oc1ccccc1C(=O)O\u001b[0m\n",
      "Thought:\u001b[32;1m\u001b[1;3mNow that I have the SMILES for aspirin, I can find the functional groups.\n",
      "Action: FunctionalGroups\n",
      "Action Input: CC(=O)Oc1ccccc1C(=O)O\u001b[0m\n",
      "Observation: \u001b[33;1m\u001b[1;3mThis molecule contains esters, ketones, alcohol groups, carboxylic acids, terminal aldehyde, carbonyl methyl, and side-chain hydroxyls.\u001b[0m\n",
      "Thought:\u001b[32;1m\u001b[1;3mThe functional groups in aspirin are esters, ketones, alcohol groups, carboxylic acids, terminal aldehyde, carbonyl methyl, and side-chain hydroxyls.\n",
      "Final Answer: The functional groups in aspirin are esters, ketones, alcohol groups, carboxylic acids, terminal aldehyde, carbonyl methyl, and side-chain hydroxyls.\u001b[0m\n",
      "\n",
      "\u001b[1m> Finished chain.\u001b[0m\n"
     ]
    },
    {
     "data": {
      "text/plain": [
       "'The functional groups in aspirin are esters, ketones, alcohol groups, carboxylic acids, terminal aldehyde, carbonyl methyl, and side-chain hydroxyls.'"
      ]
     },
     "execution_count": 48,
     "metadata": {},
     "output_type": "execute_result"
    }
   ],
   "source": [
    "agent_chain.run(\"What functional groups are in aspirin?\")"
   ]
  },
  {
   "cell_type": "markdown",
   "metadata": {},
   "source": [
    "#### 12. Molecule Safety Tool"
   ]
  },
  {
   "cell_type": "code",
   "execution_count": 49,
   "metadata": {},
   "outputs": [],
   "source": [
    "safety_summary_prompt = (\n",
    "    \"Your task is to parse through the data provided and provide a summary of important health, laboratory, and environemntal safety information.\"\n",
    "    \"Focus on answering the following points, and follow the format \\\"Name: description\\\".\"\n",
    "    \"Operator safety: Does this substance represent any danger to the person handling it? What are the risks? What precautions should be taken when handling this substance?\"\n",
    "    \"GHS information: What are the GHS signal (hazard level: dangerous, warning, etc.) and GHS classification? What do these GHS classifications mean when dealing with this substance?\"\n",
    "    \"Environmental risks: What are the environmental impacts of handling this substance.\"\n",
    "    \"Societal impact: What are the societal concerns of this substance? For instance, is it a known chemical weapon, is it illegal, or is it a controlled substance for any reason?\"\n",
    "    \"For each point, use maximum two sentences. Use only the information provided in the paragraph below.\"\n",
    "    \"If there is not enough information in a category, you may fill in with your knowledge, but explicitly state so.\"\n",
    "    \"Here is the information:{data}\"\n",
    ")\n",
    "\n",
    "summary_each_data = (\n",
    "    \"Please summarize the following, highlighting important information for health, laboratory and environemntal safety.\"\n",
    "    \"Do not exceed {approx_length} characters. The data is: {data}\"\n",
    ")"
   ]
  },
  {
   "cell_type": "code",
   "execution_count": 55,
   "metadata": {},
   "outputs": [],
   "source": [
    "class MoleculeSafety:\n",
    "    def __init__(self, llm: BaseLLM = None):\n",
    "        while True:\n",
    "            try:\n",
    "                self.clintox = pd.read_csv(\"https://deepchemdata.s3-us-west-1.amazonaws.com/datasets/clintox.csv.gz\")\n",
    "                break\n",
    "            except (ConnectionRefusedError, urllib.error.URLError):\n",
    "                time.sleep(5)\n",
    "                continue\n",
    "        self.pubchem_data = {}\n",
    "        self.llm = llm\n",
    "\n",
    "    def _fetch_pubchem_data(self, cas_number):\n",
    "        \"\"\"Fetch data from PubChem for a given CAS number, or use cached data if it's already been fetched.\"\"\"\n",
    "        if cas_number not in self.pubchem_data:\n",
    "            try:\n",
    "                url1 = (\n",
    "                    f\"https://pubchem.ncbi.nlm.nih.gov/rest/pug/compound/name/{cas_number}/cids/JSON\"\n",
    "                )\n",
    "                url = f\"https://pubchem.ncbi.nlm.nih.gov/rest/pug_view/data/compound/{requests.get(url1).json()['IdentifierList']['CID'][0]}/JSON\"\n",
    "                r = requests.get(url)\n",
    "                self.pubchem_data[cas_number] = r.json()\n",
    "            except:\n",
    "                return \"Invalid molecule input, no Pubchem entry.\"\n",
    "        return self.pubchem_data[cas_number]\n",
    "\n",
    "    def ghs_classification(self, text):\n",
    "        \"\"\"Gives the ghs classification from Pubchem. Give this tool the name or CAS number of one molecule.\"\"\"\n",
    "        if is_smiles(text):\n",
    "            return \"Please input a valid CAS number.\"\n",
    "        data = self._fetch_pubchem_data(text)\n",
    "        if isinstance(data, str):\n",
    "            return \"Molecule not found in Pubchem.\"\n",
    "        try:\n",
    "            for section in data[\"Record\"][\"Section\"]:\n",
    "                if section.get(\"TOCHeading\") == \"Chemical Safety\":\n",
    "                    ghs = [\n",
    "                        markup[\"Extra\"]\n",
    "                        for markup in section[\"Information\"][0][\"Value\"][\n",
    "                            \"StringWithMarkup\"\n",
    "                        ][0][\"Markup\"]\n",
    "                    ]\n",
    "                    if ghs:\n",
    "                        return ghs\n",
    "        except (StopIteration, KeyError):\n",
    "            return None\n",
    "\n",
    "\n",
    "    @staticmethod\n",
    "    def _scrape_pubchem(data, heading1, heading2, heading3):\n",
    "        try:\n",
    "            filtered_sections = []\n",
    "            for section in data[\"Record\"][\"Section\"]:\n",
    "                toc_heading = section.get(\"TOCHeading\")\n",
    "                if toc_heading == heading1:\n",
    "                    for section2 in section[\"Section\"]:\n",
    "                        if section2.get(\"TOCHeading\") == heading2:\n",
    "                            for section3 in section2[\"Section\"]:\n",
    "                                if section3.get(\"TOCHeading\") == heading3:\n",
    "                                    filtered_sections.append(section3)\n",
    "            return filtered_sections\n",
    "        except:\n",
    "            return None\n",
    "\n",
    "    def _get_safety_data(self, cas):\n",
    "        data = self._fetch_pubchem_data(cas)\n",
    "        safety_data = []\n",
    "\n",
    "        iterations = [\n",
    "            ([\"Health Hazards\", \"GHS Classification\", \"Hazards Summary\", \"NFPA Hazard Classification\"], \"Safety and Hazards\", \"Hazards Identification\"),\n",
    "            ([\"Explosive Limits and Potential\", \"Preventive Measures\"], \"Safety and Hazards\", \"Safety and Hazard Properties\"),\n",
    "            ([\"Inhalation Risk\", \"Effects of Long Term Exposure\", \"Personal Protective Equipment (PPE)\"], \"Safety and Hazards\", \"Exposure Control and Personal Protection\"),\n",
    "            ([\"Toxicity Summary\", \"Carcinogen Classification\"], \"Toxicity\", \"Toxicological Information\")\n",
    "        ]\n",
    "\n",
    "        for items, header1, header2 in iterations:\n",
    "            safety_data.extend([self._scrape_pubchem(data, header1, header2, item)] for item in items)\n",
    "\n",
    "        return safety_data\n",
    "\n",
    "    @staticmethod\n",
    "    def _num_tokens(string, encoding_name=\"text-davinci-003\"):\n",
    "        \"\"\"Returns the number of tokens in a text string.\"\"\"\n",
    "        encoding = tiktoken.encoding_for_model(encoding_name)\n",
    "        num_tokens = len(encoding.encode(string))\n",
    "        return num_tokens\n",
    "\n",
    "    def get_safety_summary(self, cas):\n",
    "        safety_data = self._get_safety_data(cas)\n",
    "        approx_length = int((3500*4)/len(safety_data) - 0.1*((3500*4)/len(safety_data)))\n",
    "        prompt_short = PromptTemplate(\n",
    "            template=summary_each_data,\n",
    "            input_variables=[\"data\", \"approx_length\"]\n",
    "        )\n",
    "        llm_chain_short = LLMChain(prompt=prompt_short, llm=self.llm)\n",
    "\n",
    "        llm_output = []\n",
    "        for info in safety_data:\n",
    "            if self._num_tokens(str(info)) > approx_length:\n",
    "                trunc_info = str(info)[:approx_length]\n",
    "                llm_output.append(llm_chain_short.run({\"data\":str(trunc_info), \"approx_length\":approx_length}))\n",
    "            else:\n",
    "                llm_output.append(llm_chain_short.run({\"data\":str(info), \"approx_length\":approx_length}))\n",
    "        return llm_output\n",
    "\n",
    "\n",
    "    def safety_summary(self, cas):\n",
    "        if is_smiles(cas):\n",
    "            return \"Please input a valid CAS number.\"\n",
    "        data = self._fetch_pubchem_data(cas)\n",
    "        if isinstance(data, str):\n",
    "            return \"Molecule not found in Pubchem.\"\n",
    "\n",
    "        data = self.get_safety_summary(cas)\n",
    "\n",
    "        # prompt = PromptTemplate(template=prompt_template, input_variables=[\"data\"])\n",
    "        llm_chain = LLMChain(prompt=safety_summary_prompt, llm=self.llm)\n",
    "        return llm_chain.run(\" \".join(data))\n",
    "\n",
    "\n",
    "class SafetySummary(BaseTool):\n",
    "    name = \"SafetySummary\"\n",
    "    description=(\n",
    "        \"Input CAS number, returns a summary of safety information.\"\n",
    "        \"The summary includes Operator safety, GHS information, \"\n",
    "        \"Environmental risks, and Societal impact.\"\n",
    "    )\n",
    "    llm: BaseLLM = None\n",
    "    llm_chain: LLMChain = None\n",
    "    pubchem_data: dict = dict()\n",
    "    mol_safety: MoleculeSafety = None\n",
    "\n",
    "\n",
    "    def __init__(self, llm):\n",
    "        super(SafetySummary, self).__init__()\n",
    "        self.mol_safety = MoleculeSafety(llm = llm)\n",
    "        self.llm = llm\n",
    "        prompt = PromptTemplate(\n",
    "            template=safety_summary_prompt,\n",
    "            input_variables=[\"data\"]\n",
    "        )\n",
    "        self.llm_chain = LLMChain(\n",
    "            prompt=prompt,\n",
    "            llm=self.llm\n",
    "        )\n",
    "\n",
    "    def _run(self, cas: str) -> str:\n",
    "        if is_smiles(cas):\n",
    "            return \"Please input a valid CAS number.\"\n",
    "        data = self.mol_safety._fetch_pubchem_data(cas)\n",
    "        if isinstance(data, str):\n",
    "            return \"Molecule not found in Pubchem.\"\n",
    "\n",
    "        data = self.mol_safety.get_safety_summary(cas)\n",
    "        return self.llm_chain.run(\" \".join(data))\n",
    "    \n",
    "    async def _arun(self, cas_number):\n",
    "        raise NotImplementedError(\"Async not implemented.\")\n",
    "\n",
    "\n",
    "\n",
    "class ExplosiveCheck(BaseTool):\n",
    "    name = \"ExplosiveCheck\"\n",
    "    description=(\"Input CAS number, returns if molecule is explosive.\")\n",
    "    mol_safety: MoleculeSafety = None\n",
    "\n",
    "    def __init__(self):\n",
    "        super(ExplosiveCheck, self).__init__()\n",
    "        self.mol_safety = MoleculeSafety()\n",
    "\n",
    "\n",
    "    def _run(self, cas_number):\n",
    "        \"\"\"Checks if a molecule has an explosive GHS classification using pubchem.\"\"\"\n",
    "        #first check if the input is a CAS number\n",
    "        if is_smiles(cas_number):\n",
    "            return \"Please input a valid CAS number.\"\n",
    "        cls = self.mol_safety.ghs_classification(cas_number)\n",
    "        if cls is None:\n",
    "            return \"Explosive Check Error. The molecule may not be assigned a GHS rating. \"\n",
    "        if \"Explos\" in str(cls) or \"explos\" in str(cls):\n",
    "            return \"Molecule is explosive\"\n",
    "        else:\n",
    "            return \"Molecule is not known to be explosive.\"\n",
    "        \n",
    "    async def _arun(self, cas_number):\n",
    "        raise NotImplementedError(\"Async not implemented.\")"
   ]
  },
  {
   "cell_type": "code",
   "execution_count": 58,
   "metadata": {},
   "outputs": [],
   "source": [
    "safety_checker_tool = SafetySummary(llm=llm)\n",
    "explosive_check_tool = ExplosiveCheck()\n",
    "\n",
    "agent_chain = initialize_agent(\n",
    "    [cas_tool, smiles_tool, safety_checker_tool, explosive_check_tool],\n",
    "    llm,\n",
    "    agent=AgentType.ZERO_SHOT_REACT_DESCRIPTION,\n",
    "    verbose=True,\n",
    ")"
   ]
  },
  {
   "cell_type": "code",
   "execution_count": 59,
   "metadata": {},
   "outputs": [
    {
     "name": "stdout",
     "output_type": "stream",
     "text": [
      "\n",
      "\n",
      "\u001b[1m> Entering new AgentExecutor chain...\u001b[0m\n",
      "\u001b[32;1m\u001b[1;3mI need to find the CAS number of aspirin first.\n",
      "Action: Mol2CAS\n",
      "Action Input: aspirin\u001b[0m"
     ]
    },
    {
     "name": "stderr",
     "output_type": "stream",
     "text": [
      "[18:54:41] SMILES Parse Error: syntax error while parsing: aspirin\n",
      "[18:54:41] SMILES Parse Error: Failed parsing SMILES 'aspirin' for input: 'aspirin'\n"
     ]
    },
    {
     "name": "stdout",
     "output_type": "stream",
     "text": [
      "\n",
      "Observation: \u001b[36;1m\u001b[1;3m50-78-2\u001b[0m\n",
      "Thought:\u001b[32;1m\u001b[1;3mNow that I have the CAS number, I can use it to get the safety summary.\n",
      "Action: SafetySummary\n",
      "Action Input: 50-78-2\u001b[0m"
     ]
    },
    {
     "name": "stderr",
     "output_type": "stream",
     "text": [
      "[18:54:47] SMILES Parse Error: syntax error while parsing: 50-78-2\n",
      "[18:54:47] SMILES Parse Error: Failed parsing SMILES '50-78-2' for input: '50-78-2'\n"
     ]
    },
    {
     "ename": "InvalidRequestError",
     "evalue": "This model's maximum context length is 4097 tokens. However, your messages resulted in 4886 tokens. Please reduce the length of the messages.",
     "output_type": "error",
     "traceback": [
      "\u001b[0;31m---------------------------------------------------------------------------\u001b[0m",
      "\u001b[0;31mInvalidRequestError\u001b[0m                       Traceback (most recent call last)",
      "Cell \u001b[0;32mIn[59], line 1\u001b[0m\n\u001b[0;32m----> 1\u001b[0m agent_chain\u001b[39m.\u001b[39;49mrun(\u001b[39m\"\u001b[39;49m\u001b[39mWhat\u001b[39;49m\u001b[39m'\u001b[39;49m\u001b[39ms the safety summary of aspirin?\u001b[39;49m\u001b[39m\"\u001b[39;49m)\n",
      "File \u001b[0;32m~/miniforge3/envs/chimiaresearch/lib/python3.10/site-packages/langchain/chains/base.py:507\u001b[0m, in \u001b[0;36mChain.run\u001b[0;34m(self, callbacks, tags, metadata, *args, **kwargs)\u001b[0m\n\u001b[1;32m    505\u001b[0m     \u001b[39mif\u001b[39;00m \u001b[39mlen\u001b[39m(args) \u001b[39m!=\u001b[39m \u001b[39m1\u001b[39m:\n\u001b[1;32m    506\u001b[0m         \u001b[39mraise\u001b[39;00m \u001b[39mValueError\u001b[39;00m(\u001b[39m\"\u001b[39m\u001b[39m`run` supports only one positional argument.\u001b[39m\u001b[39m\"\u001b[39m)\n\u001b[0;32m--> 507\u001b[0m     \u001b[39mreturn\u001b[39;00m \u001b[39mself\u001b[39;49m(args[\u001b[39m0\u001b[39;49m], callbacks\u001b[39m=\u001b[39;49mcallbacks, tags\u001b[39m=\u001b[39;49mtags, metadata\u001b[39m=\u001b[39;49mmetadata)[\n\u001b[1;32m    508\u001b[0m         _output_key\n\u001b[1;32m    509\u001b[0m     ]\n\u001b[1;32m    511\u001b[0m \u001b[39mif\u001b[39;00m kwargs \u001b[39mand\u001b[39;00m \u001b[39mnot\u001b[39;00m args:\n\u001b[1;32m    512\u001b[0m     \u001b[39mreturn\u001b[39;00m \u001b[39mself\u001b[39m(kwargs, callbacks\u001b[39m=\u001b[39mcallbacks, tags\u001b[39m=\u001b[39mtags, metadata\u001b[39m=\u001b[39mmetadata)[\n\u001b[1;32m    513\u001b[0m         _output_key\n\u001b[1;32m    514\u001b[0m     ]\n",
      "File \u001b[0;32m~/miniforge3/envs/chimiaresearch/lib/python3.10/site-packages/langchain/chains/base.py:312\u001b[0m, in \u001b[0;36mChain.__call__\u001b[0;34m(self, inputs, return_only_outputs, callbacks, tags, metadata, run_name, include_run_info)\u001b[0m\n\u001b[1;32m    310\u001b[0m \u001b[39mexcept\u001b[39;00m \u001b[39mBaseException\u001b[39;00m \u001b[39mas\u001b[39;00m e:\n\u001b[1;32m    311\u001b[0m     run_manager\u001b[39m.\u001b[39mon_chain_error(e)\n\u001b[0;32m--> 312\u001b[0m     \u001b[39mraise\u001b[39;00m e\n\u001b[1;32m    313\u001b[0m run_manager\u001b[39m.\u001b[39mon_chain_end(outputs)\n\u001b[1;32m    314\u001b[0m final_outputs: Dict[\u001b[39mstr\u001b[39m, Any] \u001b[39m=\u001b[39m \u001b[39mself\u001b[39m\u001b[39m.\u001b[39mprep_outputs(\n\u001b[1;32m    315\u001b[0m     inputs, outputs, return_only_outputs\n\u001b[1;32m    316\u001b[0m )\n",
      "File \u001b[0;32m~/miniforge3/envs/chimiaresearch/lib/python3.10/site-packages/langchain/chains/base.py:306\u001b[0m, in \u001b[0;36mChain.__call__\u001b[0;34m(self, inputs, return_only_outputs, callbacks, tags, metadata, run_name, include_run_info)\u001b[0m\n\u001b[1;32m    299\u001b[0m run_manager \u001b[39m=\u001b[39m callback_manager\u001b[39m.\u001b[39mon_chain_start(\n\u001b[1;32m    300\u001b[0m     dumpd(\u001b[39mself\u001b[39m),\n\u001b[1;32m    301\u001b[0m     inputs,\n\u001b[1;32m    302\u001b[0m     name\u001b[39m=\u001b[39mrun_name,\n\u001b[1;32m    303\u001b[0m )\n\u001b[1;32m    304\u001b[0m \u001b[39mtry\u001b[39;00m:\n\u001b[1;32m    305\u001b[0m     outputs \u001b[39m=\u001b[39m (\n\u001b[0;32m--> 306\u001b[0m         \u001b[39mself\u001b[39;49m\u001b[39m.\u001b[39;49m_call(inputs, run_manager\u001b[39m=\u001b[39;49mrun_manager)\n\u001b[1;32m    307\u001b[0m         \u001b[39mif\u001b[39;00m new_arg_supported\n\u001b[1;32m    308\u001b[0m         \u001b[39melse\u001b[39;00m \u001b[39mself\u001b[39m\u001b[39m.\u001b[39m_call(inputs)\n\u001b[1;32m    309\u001b[0m     )\n\u001b[1;32m    310\u001b[0m \u001b[39mexcept\u001b[39;00m \u001b[39mBaseException\u001b[39;00m \u001b[39mas\u001b[39;00m e:\n\u001b[1;32m    311\u001b[0m     run_manager\u001b[39m.\u001b[39mon_chain_error(e)\n",
      "File \u001b[0;32m~/miniforge3/envs/chimiaresearch/lib/python3.10/site-packages/langchain/agents/agent.py:1312\u001b[0m, in \u001b[0;36mAgentExecutor._call\u001b[0;34m(self, inputs, run_manager)\u001b[0m\n\u001b[1;32m   1310\u001b[0m \u001b[39m# We now enter the agent loop (until it returns something).\u001b[39;00m\n\u001b[1;32m   1311\u001b[0m \u001b[39mwhile\u001b[39;00m \u001b[39mself\u001b[39m\u001b[39m.\u001b[39m_should_continue(iterations, time_elapsed):\n\u001b[0;32m-> 1312\u001b[0m     next_step_output \u001b[39m=\u001b[39m \u001b[39mself\u001b[39;49m\u001b[39m.\u001b[39;49m_take_next_step(\n\u001b[1;32m   1313\u001b[0m         name_to_tool_map,\n\u001b[1;32m   1314\u001b[0m         color_mapping,\n\u001b[1;32m   1315\u001b[0m         inputs,\n\u001b[1;32m   1316\u001b[0m         intermediate_steps,\n\u001b[1;32m   1317\u001b[0m         run_manager\u001b[39m=\u001b[39;49mrun_manager,\n\u001b[1;32m   1318\u001b[0m     )\n\u001b[1;32m   1319\u001b[0m     \u001b[39mif\u001b[39;00m \u001b[39misinstance\u001b[39m(next_step_output, AgentFinish):\n\u001b[1;32m   1320\u001b[0m         \u001b[39mreturn\u001b[39;00m \u001b[39mself\u001b[39m\u001b[39m.\u001b[39m_return(\n\u001b[1;32m   1321\u001b[0m             next_step_output, intermediate_steps, run_manager\u001b[39m=\u001b[39mrun_manager\n\u001b[1;32m   1322\u001b[0m         )\n",
      "File \u001b[0;32m~/miniforge3/envs/chimiaresearch/lib/python3.10/site-packages/langchain/agents/agent.py:1038\u001b[0m, in \u001b[0;36mAgentExecutor._take_next_step\u001b[0;34m(self, name_to_tool_map, color_mapping, inputs, intermediate_steps, run_manager)\u001b[0m\n\u001b[1;32m   1029\u001b[0m \u001b[39mdef\u001b[39;00m \u001b[39m_take_next_step\u001b[39m(\n\u001b[1;32m   1030\u001b[0m     \u001b[39mself\u001b[39m,\n\u001b[1;32m   1031\u001b[0m     name_to_tool_map: Dict[\u001b[39mstr\u001b[39m, BaseTool],\n\u001b[0;32m   (...)\u001b[0m\n\u001b[1;32m   1035\u001b[0m     run_manager: Optional[CallbackManagerForChainRun] \u001b[39m=\u001b[39m \u001b[39mNone\u001b[39;00m,\n\u001b[1;32m   1036\u001b[0m ) \u001b[39m-\u001b[39m\u001b[39m>\u001b[39m Union[AgentFinish, List[Tuple[AgentAction, \u001b[39mstr\u001b[39m]]]:\n\u001b[1;32m   1037\u001b[0m     \u001b[39mreturn\u001b[39;00m \u001b[39mself\u001b[39m\u001b[39m.\u001b[39m_consume_next_step(\n\u001b[0;32m-> 1038\u001b[0m         [\n\u001b[1;32m   1039\u001b[0m             a\n\u001b[1;32m   1040\u001b[0m             \u001b[39mfor\u001b[39;00m a \u001b[39min\u001b[39;00m \u001b[39mself\u001b[39m\u001b[39m.\u001b[39m_iter_next_step(\n\u001b[1;32m   1041\u001b[0m                 name_to_tool_map,\n\u001b[1;32m   1042\u001b[0m                 color_mapping,\n\u001b[1;32m   1043\u001b[0m                 inputs,\n\u001b[1;32m   1044\u001b[0m                 intermediate_steps,\n\u001b[1;32m   1045\u001b[0m                 run_manager,\n\u001b[1;32m   1046\u001b[0m             )\n\u001b[1;32m   1047\u001b[0m         ]\n\u001b[1;32m   1048\u001b[0m     )\n",
      "File \u001b[0;32m~/miniforge3/envs/chimiaresearch/lib/python3.10/site-packages/langchain/agents/agent.py:1038\u001b[0m, in \u001b[0;36m<listcomp>\u001b[0;34m(.0)\u001b[0m\n\u001b[1;32m   1029\u001b[0m \u001b[39mdef\u001b[39;00m \u001b[39m_take_next_step\u001b[39m(\n\u001b[1;32m   1030\u001b[0m     \u001b[39mself\u001b[39m,\n\u001b[1;32m   1031\u001b[0m     name_to_tool_map: Dict[\u001b[39mstr\u001b[39m, BaseTool],\n\u001b[0;32m   (...)\u001b[0m\n\u001b[1;32m   1035\u001b[0m     run_manager: Optional[CallbackManagerForChainRun] \u001b[39m=\u001b[39m \u001b[39mNone\u001b[39;00m,\n\u001b[1;32m   1036\u001b[0m ) \u001b[39m-\u001b[39m\u001b[39m>\u001b[39m Union[AgentFinish, List[Tuple[AgentAction, \u001b[39mstr\u001b[39m]]]:\n\u001b[1;32m   1037\u001b[0m     \u001b[39mreturn\u001b[39;00m \u001b[39mself\u001b[39m\u001b[39m.\u001b[39m_consume_next_step(\n\u001b[0;32m-> 1038\u001b[0m         [\n\u001b[1;32m   1039\u001b[0m             a\n\u001b[1;32m   1040\u001b[0m             \u001b[39mfor\u001b[39;00m a \u001b[39min\u001b[39;00m \u001b[39mself\u001b[39m\u001b[39m.\u001b[39m_iter_next_step(\n\u001b[1;32m   1041\u001b[0m                 name_to_tool_map,\n\u001b[1;32m   1042\u001b[0m                 color_mapping,\n\u001b[1;32m   1043\u001b[0m                 inputs,\n\u001b[1;32m   1044\u001b[0m                 intermediate_steps,\n\u001b[1;32m   1045\u001b[0m                 run_manager,\n\u001b[1;32m   1046\u001b[0m             )\n\u001b[1;32m   1047\u001b[0m         ]\n\u001b[1;32m   1048\u001b[0m     )\n",
      "File \u001b[0;32m~/miniforge3/envs/chimiaresearch/lib/python3.10/site-packages/langchain/agents/agent.py:1134\u001b[0m, in \u001b[0;36mAgentExecutor._iter_next_step\u001b[0;34m(self, name_to_tool_map, color_mapping, inputs, intermediate_steps, run_manager)\u001b[0m\n\u001b[1;32m   1132\u001b[0m         tool_run_kwargs[\u001b[39m\"\u001b[39m\u001b[39mllm_prefix\u001b[39m\u001b[39m\"\u001b[39m] \u001b[39m=\u001b[39m \u001b[39m\"\u001b[39m\u001b[39m\"\u001b[39m\n\u001b[1;32m   1133\u001b[0m     \u001b[39m# We then call the tool on the tool input to get an observation\u001b[39;00m\n\u001b[0;32m-> 1134\u001b[0m     observation \u001b[39m=\u001b[39m tool\u001b[39m.\u001b[39;49mrun(\n\u001b[1;32m   1135\u001b[0m         agent_action\u001b[39m.\u001b[39;49mtool_input,\n\u001b[1;32m   1136\u001b[0m         verbose\u001b[39m=\u001b[39;49m\u001b[39mself\u001b[39;49m\u001b[39m.\u001b[39;49mverbose,\n\u001b[1;32m   1137\u001b[0m         color\u001b[39m=\u001b[39;49mcolor,\n\u001b[1;32m   1138\u001b[0m         callbacks\u001b[39m=\u001b[39;49mrun_manager\u001b[39m.\u001b[39;49mget_child() \u001b[39mif\u001b[39;49;00m run_manager \u001b[39melse\u001b[39;49;00m \u001b[39mNone\u001b[39;49;00m,\n\u001b[1;32m   1139\u001b[0m         \u001b[39m*\u001b[39;49m\u001b[39m*\u001b[39;49mtool_run_kwargs,\n\u001b[1;32m   1140\u001b[0m     )\n\u001b[1;32m   1141\u001b[0m \u001b[39melse\u001b[39;00m:\n\u001b[1;32m   1142\u001b[0m     tool_run_kwargs \u001b[39m=\u001b[39m \u001b[39mself\u001b[39m\u001b[39m.\u001b[39magent\u001b[39m.\u001b[39mtool_run_logging_kwargs()\n",
      "File \u001b[0;32m~/miniforge3/envs/chimiaresearch/lib/python3.10/site-packages/langchain_core/tools.py:365\u001b[0m, in \u001b[0;36mBaseTool.run\u001b[0;34m(self, tool_input, verbose, start_color, color, callbacks, tags, metadata, run_name, **kwargs)\u001b[0m\n\u001b[1;32m    363\u001b[0m \u001b[39mexcept\u001b[39;00m (\u001b[39mException\u001b[39;00m, \u001b[39mKeyboardInterrupt\u001b[39;00m) \u001b[39mas\u001b[39;00m e:\n\u001b[1;32m    364\u001b[0m     run_manager\u001b[39m.\u001b[39mon_tool_error(e)\n\u001b[0;32m--> 365\u001b[0m     \u001b[39mraise\u001b[39;00m e\n\u001b[1;32m    366\u001b[0m \u001b[39melse\u001b[39;00m:\n\u001b[1;32m    367\u001b[0m     run_manager\u001b[39m.\u001b[39mon_tool_end(\n\u001b[1;32m    368\u001b[0m         \u001b[39mstr\u001b[39m(observation), color\u001b[39m=\u001b[39mcolor, name\u001b[39m=\u001b[39m\u001b[39mself\u001b[39m\u001b[39m.\u001b[39mname, \u001b[39m*\u001b[39m\u001b[39m*\u001b[39mkwargs\n\u001b[1;32m    369\u001b[0m     )\n",
      "File \u001b[0;32m~/miniforge3/envs/chimiaresearch/lib/python3.10/site-packages/langchain_core/tools.py:339\u001b[0m, in \u001b[0;36mBaseTool.run\u001b[0;34m(self, tool_input, verbose, start_color, color, callbacks, tags, metadata, run_name, **kwargs)\u001b[0m\n\u001b[1;32m    334\u001b[0m \u001b[39mtry\u001b[39;00m:\n\u001b[1;32m    335\u001b[0m     tool_args, tool_kwargs \u001b[39m=\u001b[39m \u001b[39mself\u001b[39m\u001b[39m.\u001b[39m_to_args_and_kwargs(parsed_input)\n\u001b[1;32m    336\u001b[0m     observation \u001b[39m=\u001b[39m (\n\u001b[1;32m    337\u001b[0m         \u001b[39mself\u001b[39m\u001b[39m.\u001b[39m_run(\u001b[39m*\u001b[39mtool_args, run_manager\u001b[39m=\u001b[39mrun_manager, \u001b[39m*\u001b[39m\u001b[39m*\u001b[39mtool_kwargs)\n\u001b[1;32m    338\u001b[0m         \u001b[39mif\u001b[39;00m new_arg_supported\n\u001b[0;32m--> 339\u001b[0m         \u001b[39melse\u001b[39;00m \u001b[39mself\u001b[39;49m\u001b[39m.\u001b[39;49m_run(\u001b[39m*\u001b[39;49mtool_args, \u001b[39m*\u001b[39;49m\u001b[39m*\u001b[39;49mtool_kwargs)\n\u001b[1;32m    340\u001b[0m     )\n\u001b[1;32m    341\u001b[0m \u001b[39mexcept\u001b[39;00m ToolException \u001b[39mas\u001b[39;00m e:\n\u001b[1;32m    342\u001b[0m     \u001b[39mif\u001b[39;00m \u001b[39mnot\u001b[39;00m \u001b[39mself\u001b[39m\u001b[39m.\u001b[39mhandle_tool_error:\n",
      "Cell \u001b[0;32mIn[55], line 155\u001b[0m, in \u001b[0;36mSafetySummary._run\u001b[0;34m(self, cas)\u001b[0m\n\u001b[1;32m    152\u001b[0m     \u001b[39mreturn\u001b[39;00m \u001b[39m\"\u001b[39m\u001b[39mMolecule not found in Pubchem.\u001b[39m\u001b[39m\"\u001b[39m\n\u001b[1;32m    154\u001b[0m data \u001b[39m=\u001b[39m \u001b[39mself\u001b[39m\u001b[39m.\u001b[39mmol_safety\u001b[39m.\u001b[39mget_safety_summary(cas)\n\u001b[0;32m--> 155\u001b[0m \u001b[39mreturn\u001b[39;00m \u001b[39mself\u001b[39;49m\u001b[39m.\u001b[39;49mllm_chain\u001b[39m.\u001b[39;49mrun(\u001b[39m\"\u001b[39;49m\u001b[39m \u001b[39;49m\u001b[39m\"\u001b[39;49m\u001b[39m.\u001b[39;49mjoin(data))\n",
      "File \u001b[0;32m~/miniforge3/envs/chimiaresearch/lib/python3.10/site-packages/langchain/chains/base.py:507\u001b[0m, in \u001b[0;36mChain.run\u001b[0;34m(self, callbacks, tags, metadata, *args, **kwargs)\u001b[0m\n\u001b[1;32m    505\u001b[0m     \u001b[39mif\u001b[39;00m \u001b[39mlen\u001b[39m(args) \u001b[39m!=\u001b[39m \u001b[39m1\u001b[39m:\n\u001b[1;32m    506\u001b[0m         \u001b[39mraise\u001b[39;00m \u001b[39mValueError\u001b[39;00m(\u001b[39m\"\u001b[39m\u001b[39m`run` supports only one positional argument.\u001b[39m\u001b[39m\"\u001b[39m)\n\u001b[0;32m--> 507\u001b[0m     \u001b[39mreturn\u001b[39;00m \u001b[39mself\u001b[39;49m(args[\u001b[39m0\u001b[39;49m], callbacks\u001b[39m=\u001b[39;49mcallbacks, tags\u001b[39m=\u001b[39;49mtags, metadata\u001b[39m=\u001b[39;49mmetadata)[\n\u001b[1;32m    508\u001b[0m         _output_key\n\u001b[1;32m    509\u001b[0m     ]\n\u001b[1;32m    511\u001b[0m \u001b[39mif\u001b[39;00m kwargs \u001b[39mand\u001b[39;00m \u001b[39mnot\u001b[39;00m args:\n\u001b[1;32m    512\u001b[0m     \u001b[39mreturn\u001b[39;00m \u001b[39mself\u001b[39m(kwargs, callbacks\u001b[39m=\u001b[39mcallbacks, tags\u001b[39m=\u001b[39mtags, metadata\u001b[39m=\u001b[39mmetadata)[\n\u001b[1;32m    513\u001b[0m         _output_key\n\u001b[1;32m    514\u001b[0m     ]\n",
      "File \u001b[0;32m~/miniforge3/envs/chimiaresearch/lib/python3.10/site-packages/langchain/chains/base.py:312\u001b[0m, in \u001b[0;36mChain.__call__\u001b[0;34m(self, inputs, return_only_outputs, callbacks, tags, metadata, run_name, include_run_info)\u001b[0m\n\u001b[1;32m    310\u001b[0m \u001b[39mexcept\u001b[39;00m \u001b[39mBaseException\u001b[39;00m \u001b[39mas\u001b[39;00m e:\n\u001b[1;32m    311\u001b[0m     run_manager\u001b[39m.\u001b[39mon_chain_error(e)\n\u001b[0;32m--> 312\u001b[0m     \u001b[39mraise\u001b[39;00m e\n\u001b[1;32m    313\u001b[0m run_manager\u001b[39m.\u001b[39mon_chain_end(outputs)\n\u001b[1;32m    314\u001b[0m final_outputs: Dict[\u001b[39mstr\u001b[39m, Any] \u001b[39m=\u001b[39m \u001b[39mself\u001b[39m\u001b[39m.\u001b[39mprep_outputs(\n\u001b[1;32m    315\u001b[0m     inputs, outputs, return_only_outputs\n\u001b[1;32m    316\u001b[0m )\n",
      "File \u001b[0;32m~/miniforge3/envs/chimiaresearch/lib/python3.10/site-packages/langchain/chains/base.py:306\u001b[0m, in \u001b[0;36mChain.__call__\u001b[0;34m(self, inputs, return_only_outputs, callbacks, tags, metadata, run_name, include_run_info)\u001b[0m\n\u001b[1;32m    299\u001b[0m run_manager \u001b[39m=\u001b[39m callback_manager\u001b[39m.\u001b[39mon_chain_start(\n\u001b[1;32m    300\u001b[0m     dumpd(\u001b[39mself\u001b[39m),\n\u001b[1;32m    301\u001b[0m     inputs,\n\u001b[1;32m    302\u001b[0m     name\u001b[39m=\u001b[39mrun_name,\n\u001b[1;32m    303\u001b[0m )\n\u001b[1;32m    304\u001b[0m \u001b[39mtry\u001b[39;00m:\n\u001b[1;32m    305\u001b[0m     outputs \u001b[39m=\u001b[39m (\n\u001b[0;32m--> 306\u001b[0m         \u001b[39mself\u001b[39;49m\u001b[39m.\u001b[39;49m_call(inputs, run_manager\u001b[39m=\u001b[39;49mrun_manager)\n\u001b[1;32m    307\u001b[0m         \u001b[39mif\u001b[39;00m new_arg_supported\n\u001b[1;32m    308\u001b[0m         \u001b[39melse\u001b[39;00m \u001b[39mself\u001b[39m\u001b[39m.\u001b[39m_call(inputs)\n\u001b[1;32m    309\u001b[0m     )\n\u001b[1;32m    310\u001b[0m \u001b[39mexcept\u001b[39;00m \u001b[39mBaseException\u001b[39;00m \u001b[39mas\u001b[39;00m e:\n\u001b[1;32m    311\u001b[0m     run_manager\u001b[39m.\u001b[39mon_chain_error(e)\n",
      "File \u001b[0;32m~/miniforge3/envs/chimiaresearch/lib/python3.10/site-packages/langchain/chains/llm.py:103\u001b[0m, in \u001b[0;36mLLMChain._call\u001b[0;34m(self, inputs, run_manager)\u001b[0m\n\u001b[1;32m     98\u001b[0m \u001b[39mdef\u001b[39;00m \u001b[39m_call\u001b[39m(\n\u001b[1;32m     99\u001b[0m     \u001b[39mself\u001b[39m,\n\u001b[1;32m    100\u001b[0m     inputs: Dict[\u001b[39mstr\u001b[39m, Any],\n\u001b[1;32m    101\u001b[0m     run_manager: Optional[CallbackManagerForChainRun] \u001b[39m=\u001b[39m \u001b[39mNone\u001b[39;00m,\n\u001b[1;32m    102\u001b[0m ) \u001b[39m-\u001b[39m\u001b[39m>\u001b[39m Dict[\u001b[39mstr\u001b[39m, \u001b[39mstr\u001b[39m]:\n\u001b[0;32m--> 103\u001b[0m     response \u001b[39m=\u001b[39m \u001b[39mself\u001b[39;49m\u001b[39m.\u001b[39;49mgenerate([inputs], run_manager\u001b[39m=\u001b[39;49mrun_manager)\n\u001b[1;32m    104\u001b[0m     \u001b[39mreturn\u001b[39;00m \u001b[39mself\u001b[39m\u001b[39m.\u001b[39mcreate_outputs(response)[\u001b[39m0\u001b[39m]\n",
      "File \u001b[0;32m~/miniforge3/envs/chimiaresearch/lib/python3.10/site-packages/langchain/chains/llm.py:115\u001b[0m, in \u001b[0;36mLLMChain.generate\u001b[0;34m(self, input_list, run_manager)\u001b[0m\n\u001b[1;32m    113\u001b[0m callbacks \u001b[39m=\u001b[39m run_manager\u001b[39m.\u001b[39mget_child() \u001b[39mif\u001b[39;00m run_manager \u001b[39melse\u001b[39;00m \u001b[39mNone\u001b[39;00m\n\u001b[1;32m    114\u001b[0m \u001b[39mif\u001b[39;00m \u001b[39misinstance\u001b[39m(\u001b[39mself\u001b[39m\u001b[39m.\u001b[39mllm, BaseLanguageModel):\n\u001b[0;32m--> 115\u001b[0m     \u001b[39mreturn\u001b[39;00m \u001b[39mself\u001b[39;49m\u001b[39m.\u001b[39;49mllm\u001b[39m.\u001b[39;49mgenerate_prompt(\n\u001b[1;32m    116\u001b[0m         prompts,\n\u001b[1;32m    117\u001b[0m         stop,\n\u001b[1;32m    118\u001b[0m         callbacks\u001b[39m=\u001b[39;49mcallbacks,\n\u001b[1;32m    119\u001b[0m         \u001b[39m*\u001b[39;49m\u001b[39m*\u001b[39;49m\u001b[39mself\u001b[39;49m\u001b[39m.\u001b[39;49mllm_kwargs,\n\u001b[1;32m    120\u001b[0m     )\n\u001b[1;32m    121\u001b[0m \u001b[39melse\u001b[39;00m:\n\u001b[1;32m    122\u001b[0m     results \u001b[39m=\u001b[39m \u001b[39mself\u001b[39m\u001b[39m.\u001b[39mllm\u001b[39m.\u001b[39mbind(stop\u001b[39m=\u001b[39mstop, \u001b[39m*\u001b[39m\u001b[39m*\u001b[39m\u001b[39mself\u001b[39m\u001b[39m.\u001b[39mllm_kwargs)\u001b[39m.\u001b[39mbatch(\n\u001b[1;32m    123\u001b[0m         cast(List, prompts), {\u001b[39m\"\u001b[39m\u001b[39mcallbacks\u001b[39m\u001b[39m\"\u001b[39m: callbacks}\n\u001b[1;32m    124\u001b[0m     )\n",
      "File \u001b[0;32m~/miniforge3/envs/chimiaresearch/lib/python3.10/site-packages/langchain_core/language_models/chat_models.py:495\u001b[0m, in \u001b[0;36mBaseChatModel.generate_prompt\u001b[0;34m(self, prompts, stop, callbacks, **kwargs)\u001b[0m\n\u001b[1;32m    487\u001b[0m \u001b[39mdef\u001b[39;00m \u001b[39mgenerate_prompt\u001b[39m(\n\u001b[1;32m    488\u001b[0m     \u001b[39mself\u001b[39m,\n\u001b[1;32m    489\u001b[0m     prompts: List[PromptValue],\n\u001b[0;32m   (...)\u001b[0m\n\u001b[1;32m    492\u001b[0m     \u001b[39m*\u001b[39m\u001b[39m*\u001b[39mkwargs: Any,\n\u001b[1;32m    493\u001b[0m ) \u001b[39m-\u001b[39m\u001b[39m>\u001b[39m LLMResult:\n\u001b[1;32m    494\u001b[0m     prompt_messages \u001b[39m=\u001b[39m [p\u001b[39m.\u001b[39mto_messages() \u001b[39mfor\u001b[39;00m p \u001b[39min\u001b[39;00m prompts]\n\u001b[0;32m--> 495\u001b[0m     \u001b[39mreturn\u001b[39;00m \u001b[39mself\u001b[39;49m\u001b[39m.\u001b[39;49mgenerate(prompt_messages, stop\u001b[39m=\u001b[39;49mstop, callbacks\u001b[39m=\u001b[39;49mcallbacks, \u001b[39m*\u001b[39;49m\u001b[39m*\u001b[39;49mkwargs)\n",
      "File \u001b[0;32m~/miniforge3/envs/chimiaresearch/lib/python3.10/site-packages/langchain_core/language_models/chat_models.py:382\u001b[0m, in \u001b[0;36mBaseChatModel.generate\u001b[0;34m(self, messages, stop, callbacks, tags, metadata, run_name, **kwargs)\u001b[0m\n\u001b[1;32m    380\u001b[0m         \u001b[39mif\u001b[39;00m run_managers:\n\u001b[1;32m    381\u001b[0m             run_managers[i]\u001b[39m.\u001b[39mon_llm_error(e, response\u001b[39m=\u001b[39mLLMResult(generations\u001b[39m=\u001b[39m[]))\n\u001b[0;32m--> 382\u001b[0m         \u001b[39mraise\u001b[39;00m e\n\u001b[1;32m    383\u001b[0m flattened_outputs \u001b[39m=\u001b[39m [\n\u001b[1;32m    384\u001b[0m     LLMResult(generations\u001b[39m=\u001b[39m[res\u001b[39m.\u001b[39mgenerations], llm_output\u001b[39m=\u001b[39mres\u001b[39m.\u001b[39mllm_output)\n\u001b[1;32m    385\u001b[0m     \u001b[39mfor\u001b[39;00m res \u001b[39min\u001b[39;00m results\n\u001b[1;32m    386\u001b[0m ]\n\u001b[1;32m    387\u001b[0m llm_output \u001b[39m=\u001b[39m \u001b[39mself\u001b[39m\u001b[39m.\u001b[39m_combine_llm_outputs([res\u001b[39m.\u001b[39mllm_output \u001b[39mfor\u001b[39;00m res \u001b[39min\u001b[39;00m results])\n",
      "File \u001b[0;32m~/miniforge3/envs/chimiaresearch/lib/python3.10/site-packages/langchain_core/language_models/chat_models.py:372\u001b[0m, in \u001b[0;36mBaseChatModel.generate\u001b[0;34m(self, messages, stop, callbacks, tags, metadata, run_name, **kwargs)\u001b[0m\n\u001b[1;32m    369\u001b[0m \u001b[39mfor\u001b[39;00m i, m \u001b[39min\u001b[39;00m \u001b[39menumerate\u001b[39m(messages):\n\u001b[1;32m    370\u001b[0m     \u001b[39mtry\u001b[39;00m:\n\u001b[1;32m    371\u001b[0m         results\u001b[39m.\u001b[39mappend(\n\u001b[0;32m--> 372\u001b[0m             \u001b[39mself\u001b[39;49m\u001b[39m.\u001b[39;49m_generate_with_cache(\n\u001b[1;32m    373\u001b[0m                 m,\n\u001b[1;32m    374\u001b[0m                 stop\u001b[39m=\u001b[39;49mstop,\n\u001b[1;32m    375\u001b[0m                 run_manager\u001b[39m=\u001b[39;49mrun_managers[i] \u001b[39mif\u001b[39;49;00m run_managers \u001b[39melse\u001b[39;49;00m \u001b[39mNone\u001b[39;49;00m,\n\u001b[1;32m    376\u001b[0m                 \u001b[39m*\u001b[39;49m\u001b[39m*\u001b[39;49mkwargs,\n\u001b[1;32m    377\u001b[0m             )\n\u001b[1;32m    378\u001b[0m         )\n\u001b[1;32m    379\u001b[0m     \u001b[39mexcept\u001b[39;00m \u001b[39mBaseException\u001b[39;00m \u001b[39mas\u001b[39;00m e:\n\u001b[1;32m    380\u001b[0m         \u001b[39mif\u001b[39;00m run_managers:\n",
      "File \u001b[0;32m~/miniforge3/envs/chimiaresearch/lib/python3.10/site-packages/langchain_core/language_models/chat_models.py:528\u001b[0m, in \u001b[0;36mBaseChatModel._generate_with_cache\u001b[0;34m(self, messages, stop, run_manager, **kwargs)\u001b[0m\n\u001b[1;32m    524\u001b[0m     \u001b[39mraise\u001b[39;00m \u001b[39mValueError\u001b[39;00m(\n\u001b[1;32m    525\u001b[0m         \u001b[39m\"\u001b[39m\u001b[39mAsked to cache, but no cache found at `langchain.cache`.\u001b[39m\u001b[39m\"\u001b[39m\n\u001b[1;32m    526\u001b[0m     )\n\u001b[1;32m    527\u001b[0m \u001b[39mif\u001b[39;00m new_arg_supported:\n\u001b[0;32m--> 528\u001b[0m     \u001b[39mreturn\u001b[39;00m \u001b[39mself\u001b[39;49m\u001b[39m.\u001b[39;49m_generate(\n\u001b[1;32m    529\u001b[0m         messages, stop\u001b[39m=\u001b[39;49mstop, run_manager\u001b[39m=\u001b[39;49mrun_manager, \u001b[39m*\u001b[39;49m\u001b[39m*\u001b[39;49mkwargs\n\u001b[1;32m    530\u001b[0m     )\n\u001b[1;32m    531\u001b[0m \u001b[39melse\u001b[39;00m:\n\u001b[1;32m    532\u001b[0m     \u001b[39mreturn\u001b[39;00m \u001b[39mself\u001b[39m\u001b[39m.\u001b[39m_generate(messages, stop\u001b[39m=\u001b[39mstop, \u001b[39m*\u001b[39m\u001b[39m*\u001b[39mkwargs)\n",
      "File \u001b[0;32m~/miniforge3/envs/chimiaresearch/lib/python3.10/site-packages/langchain_community/chat_models/openai.py:435\u001b[0m, in \u001b[0;36mChatOpenAI._generate\u001b[0;34m(self, messages, stop, run_manager, stream, **kwargs)\u001b[0m\n\u001b[1;32m    429\u001b[0m message_dicts, params \u001b[39m=\u001b[39m \u001b[39mself\u001b[39m\u001b[39m.\u001b[39m_create_message_dicts(messages, stop)\n\u001b[1;32m    430\u001b[0m params \u001b[39m=\u001b[39m {\n\u001b[1;32m    431\u001b[0m     \u001b[39m*\u001b[39m\u001b[39m*\u001b[39mparams,\n\u001b[1;32m    432\u001b[0m     \u001b[39m*\u001b[39m\u001b[39m*\u001b[39m({\u001b[39m\"\u001b[39m\u001b[39mstream\u001b[39m\u001b[39m\"\u001b[39m: stream} \u001b[39mif\u001b[39;00m stream \u001b[39mis\u001b[39;00m \u001b[39mnot\u001b[39;00m \u001b[39mNone\u001b[39;00m \u001b[39melse\u001b[39;00m {}),\n\u001b[1;32m    433\u001b[0m     \u001b[39m*\u001b[39m\u001b[39m*\u001b[39mkwargs,\n\u001b[1;32m    434\u001b[0m }\n\u001b[0;32m--> 435\u001b[0m response \u001b[39m=\u001b[39m \u001b[39mself\u001b[39;49m\u001b[39m.\u001b[39;49mcompletion_with_retry(\n\u001b[1;32m    436\u001b[0m     messages\u001b[39m=\u001b[39;49mmessage_dicts, run_manager\u001b[39m=\u001b[39;49mrun_manager, \u001b[39m*\u001b[39;49m\u001b[39m*\u001b[39;49mparams\n\u001b[1;32m    437\u001b[0m )\n\u001b[1;32m    438\u001b[0m \u001b[39mreturn\u001b[39;00m \u001b[39mself\u001b[39m\u001b[39m.\u001b[39m_create_chat_result(response)\n",
      "File \u001b[0;32m~/miniforge3/envs/chimiaresearch/lib/python3.10/site-packages/langchain_community/chat_models/openai.py:360\u001b[0m, in \u001b[0;36mChatOpenAI.completion_with_retry\u001b[0;34m(self, run_manager, **kwargs)\u001b[0m\n\u001b[1;32m    356\u001b[0m \u001b[39m@retry_decorator\u001b[39m\n\u001b[1;32m    357\u001b[0m \u001b[39mdef\u001b[39;00m \u001b[39m_completion_with_retry\u001b[39m(\u001b[39m*\u001b[39m\u001b[39m*\u001b[39mkwargs: Any) \u001b[39m-\u001b[39m\u001b[39m>\u001b[39m Any:\n\u001b[1;32m    358\u001b[0m     \u001b[39mreturn\u001b[39;00m \u001b[39mself\u001b[39m\u001b[39m.\u001b[39mclient\u001b[39m.\u001b[39mcreate(\u001b[39m*\u001b[39m\u001b[39m*\u001b[39mkwargs)\n\u001b[0;32m--> 360\u001b[0m \u001b[39mreturn\u001b[39;00m _completion_with_retry(\u001b[39m*\u001b[39;49m\u001b[39m*\u001b[39;49mkwargs)\n",
      "File \u001b[0;32m~/miniforge3/envs/chimiaresearch/lib/python3.10/site-packages/tenacity/__init__.py:289\u001b[0m, in \u001b[0;36mBaseRetrying.wraps.<locals>.wrapped_f\u001b[0;34m(*args, **kw)\u001b[0m\n\u001b[1;32m    287\u001b[0m \u001b[39m@functools\u001b[39m\u001b[39m.\u001b[39mwraps(f)\n\u001b[1;32m    288\u001b[0m \u001b[39mdef\u001b[39;00m \u001b[39mwrapped_f\u001b[39m(\u001b[39m*\u001b[39margs: t\u001b[39m.\u001b[39mAny, \u001b[39m*\u001b[39m\u001b[39m*\u001b[39mkw: t\u001b[39m.\u001b[39mAny) \u001b[39m-\u001b[39m\u001b[39m>\u001b[39m t\u001b[39m.\u001b[39mAny:\n\u001b[0;32m--> 289\u001b[0m     \u001b[39mreturn\u001b[39;00m \u001b[39mself\u001b[39;49m(f, \u001b[39m*\u001b[39;49margs, \u001b[39m*\u001b[39;49m\u001b[39m*\u001b[39;49mkw)\n",
      "File \u001b[0;32m~/miniforge3/envs/chimiaresearch/lib/python3.10/site-packages/tenacity/__init__.py:379\u001b[0m, in \u001b[0;36mRetrying.__call__\u001b[0;34m(self, fn, *args, **kwargs)\u001b[0m\n\u001b[1;32m    377\u001b[0m retry_state \u001b[39m=\u001b[39m RetryCallState(retry_object\u001b[39m=\u001b[39m\u001b[39mself\u001b[39m, fn\u001b[39m=\u001b[39mfn, args\u001b[39m=\u001b[39margs, kwargs\u001b[39m=\u001b[39mkwargs)\n\u001b[1;32m    378\u001b[0m \u001b[39mwhile\u001b[39;00m \u001b[39mTrue\u001b[39;00m:\n\u001b[0;32m--> 379\u001b[0m     do \u001b[39m=\u001b[39m \u001b[39mself\u001b[39;49m\u001b[39m.\u001b[39;49miter(retry_state\u001b[39m=\u001b[39;49mretry_state)\n\u001b[1;32m    380\u001b[0m     \u001b[39mif\u001b[39;00m \u001b[39misinstance\u001b[39m(do, DoAttempt):\n\u001b[1;32m    381\u001b[0m         \u001b[39mtry\u001b[39;00m:\n",
      "File \u001b[0;32m~/miniforge3/envs/chimiaresearch/lib/python3.10/site-packages/tenacity/__init__.py:314\u001b[0m, in \u001b[0;36mBaseRetrying.iter\u001b[0;34m(self, retry_state)\u001b[0m\n\u001b[1;32m    312\u001b[0m is_explicit_retry \u001b[39m=\u001b[39m fut\u001b[39m.\u001b[39mfailed \u001b[39mand\u001b[39;00m \u001b[39misinstance\u001b[39m(fut\u001b[39m.\u001b[39mexception(), TryAgain)\n\u001b[1;32m    313\u001b[0m \u001b[39mif\u001b[39;00m \u001b[39mnot\u001b[39;00m (is_explicit_retry \u001b[39mor\u001b[39;00m \u001b[39mself\u001b[39m\u001b[39m.\u001b[39mretry(retry_state)):\n\u001b[0;32m--> 314\u001b[0m     \u001b[39mreturn\u001b[39;00m fut\u001b[39m.\u001b[39;49mresult()\n\u001b[1;32m    316\u001b[0m \u001b[39mif\u001b[39;00m \u001b[39mself\u001b[39m\u001b[39m.\u001b[39mafter \u001b[39mis\u001b[39;00m \u001b[39mnot\u001b[39;00m \u001b[39mNone\u001b[39;00m:\n\u001b[1;32m    317\u001b[0m     \u001b[39mself\u001b[39m\u001b[39m.\u001b[39mafter(retry_state)\n",
      "File \u001b[0;32m~/miniforge3/envs/chimiaresearch/lib/python3.10/concurrent/futures/_base.py:451\u001b[0m, in \u001b[0;36mFuture.result\u001b[0;34m(self, timeout)\u001b[0m\n\u001b[1;32m    449\u001b[0m     \u001b[39mraise\u001b[39;00m CancelledError()\n\u001b[1;32m    450\u001b[0m \u001b[39melif\u001b[39;00m \u001b[39mself\u001b[39m\u001b[39m.\u001b[39m_state \u001b[39m==\u001b[39m FINISHED:\n\u001b[0;32m--> 451\u001b[0m     \u001b[39mreturn\u001b[39;00m \u001b[39mself\u001b[39;49m\u001b[39m.\u001b[39;49m__get_result()\n\u001b[1;32m    453\u001b[0m \u001b[39mself\u001b[39m\u001b[39m.\u001b[39m_condition\u001b[39m.\u001b[39mwait(timeout)\n\u001b[1;32m    455\u001b[0m \u001b[39mif\u001b[39;00m \u001b[39mself\u001b[39m\u001b[39m.\u001b[39m_state \u001b[39min\u001b[39;00m [CANCELLED, CANCELLED_AND_NOTIFIED]:\n",
      "File \u001b[0;32m~/miniforge3/envs/chimiaresearch/lib/python3.10/concurrent/futures/_base.py:403\u001b[0m, in \u001b[0;36mFuture.__get_result\u001b[0;34m(self)\u001b[0m\n\u001b[1;32m    401\u001b[0m \u001b[39mif\u001b[39;00m \u001b[39mself\u001b[39m\u001b[39m.\u001b[39m_exception:\n\u001b[1;32m    402\u001b[0m     \u001b[39mtry\u001b[39;00m:\n\u001b[0;32m--> 403\u001b[0m         \u001b[39mraise\u001b[39;00m \u001b[39mself\u001b[39m\u001b[39m.\u001b[39m_exception\n\u001b[1;32m    404\u001b[0m     \u001b[39mfinally\u001b[39;00m:\n\u001b[1;32m    405\u001b[0m         \u001b[39m# Break a reference cycle with the exception in self._exception\u001b[39;00m\n\u001b[1;32m    406\u001b[0m         \u001b[39mself\u001b[39m \u001b[39m=\u001b[39m \u001b[39mNone\u001b[39;00m\n",
      "File \u001b[0;32m~/miniforge3/envs/chimiaresearch/lib/python3.10/site-packages/tenacity/__init__.py:382\u001b[0m, in \u001b[0;36mRetrying.__call__\u001b[0;34m(self, fn, *args, **kwargs)\u001b[0m\n\u001b[1;32m    380\u001b[0m \u001b[39mif\u001b[39;00m \u001b[39misinstance\u001b[39m(do, DoAttempt):\n\u001b[1;32m    381\u001b[0m     \u001b[39mtry\u001b[39;00m:\n\u001b[0;32m--> 382\u001b[0m         result \u001b[39m=\u001b[39m fn(\u001b[39m*\u001b[39;49margs, \u001b[39m*\u001b[39;49m\u001b[39m*\u001b[39;49mkwargs)\n\u001b[1;32m    383\u001b[0m     \u001b[39mexcept\u001b[39;00m \u001b[39mBaseException\u001b[39;00m:  \u001b[39m# noqa: B902\u001b[39;00m\n\u001b[1;32m    384\u001b[0m         retry_state\u001b[39m.\u001b[39mset_exception(sys\u001b[39m.\u001b[39mexc_info())  \u001b[39m# type: ignore[arg-type]\u001b[39;00m\n",
      "File \u001b[0;32m~/miniforge3/envs/chimiaresearch/lib/python3.10/site-packages/langchain_community/chat_models/openai.py:358\u001b[0m, in \u001b[0;36mChatOpenAI.completion_with_retry.<locals>._completion_with_retry\u001b[0;34m(**kwargs)\u001b[0m\n\u001b[1;32m    356\u001b[0m \u001b[39m@retry_decorator\u001b[39m\n\u001b[1;32m    357\u001b[0m \u001b[39mdef\u001b[39;00m \u001b[39m_completion_with_retry\u001b[39m(\u001b[39m*\u001b[39m\u001b[39m*\u001b[39mkwargs: Any) \u001b[39m-\u001b[39m\u001b[39m>\u001b[39m Any:\n\u001b[0;32m--> 358\u001b[0m     \u001b[39mreturn\u001b[39;00m \u001b[39mself\u001b[39;49m\u001b[39m.\u001b[39;49mclient\u001b[39m.\u001b[39;49mcreate(\u001b[39m*\u001b[39;49m\u001b[39m*\u001b[39;49mkwargs)\n",
      "File \u001b[0;32m~/miniforge3/envs/chimiaresearch/lib/python3.10/site-packages/openai/api_resources/chat_completion.py:25\u001b[0m, in \u001b[0;36mChatCompletion.create\u001b[0;34m(cls, *args, **kwargs)\u001b[0m\n\u001b[1;32m     23\u001b[0m \u001b[39mwhile\u001b[39;00m \u001b[39mTrue\u001b[39;00m:\n\u001b[1;32m     24\u001b[0m     \u001b[39mtry\u001b[39;00m:\n\u001b[0;32m---> 25\u001b[0m         \u001b[39mreturn\u001b[39;00m \u001b[39msuper\u001b[39;49m()\u001b[39m.\u001b[39;49mcreate(\u001b[39m*\u001b[39;49margs, \u001b[39m*\u001b[39;49m\u001b[39m*\u001b[39;49mkwargs)\n\u001b[1;32m     26\u001b[0m     \u001b[39mexcept\u001b[39;00m TryAgain \u001b[39mas\u001b[39;00m e:\n\u001b[1;32m     27\u001b[0m         \u001b[39mif\u001b[39;00m timeout \u001b[39mis\u001b[39;00m \u001b[39mnot\u001b[39;00m \u001b[39mNone\u001b[39;00m \u001b[39mand\u001b[39;00m time\u001b[39m.\u001b[39mtime() \u001b[39m>\u001b[39m start \u001b[39m+\u001b[39m timeout:\n",
      "File \u001b[0;32m~/miniforge3/envs/chimiaresearch/lib/python3.10/site-packages/openai/api_resources/abstract/engine_api_resource.py:155\u001b[0m, in \u001b[0;36mEngineAPIResource.create\u001b[0;34m(cls, api_key, api_base, api_type, request_id, api_version, organization, **params)\u001b[0m\n\u001b[1;32m    129\u001b[0m \u001b[39m@classmethod\u001b[39m\n\u001b[1;32m    130\u001b[0m \u001b[39mdef\u001b[39;00m \u001b[39mcreate\u001b[39m(\n\u001b[1;32m    131\u001b[0m     \u001b[39mcls\u001b[39m,\n\u001b[0;32m   (...)\u001b[0m\n\u001b[1;32m    138\u001b[0m     \u001b[39m*\u001b[39m\u001b[39m*\u001b[39mparams,\n\u001b[1;32m    139\u001b[0m ):\n\u001b[1;32m    140\u001b[0m     (\n\u001b[1;32m    141\u001b[0m         deployment_id,\n\u001b[1;32m    142\u001b[0m         engine,\n\u001b[0;32m   (...)\u001b[0m\n\u001b[1;32m    152\u001b[0m         api_key, api_base, api_type, api_version, organization, \u001b[39m*\u001b[39m\u001b[39m*\u001b[39mparams\n\u001b[1;32m    153\u001b[0m     )\n\u001b[0;32m--> 155\u001b[0m     response, _, api_key \u001b[39m=\u001b[39m requestor\u001b[39m.\u001b[39;49mrequest(\n\u001b[1;32m    156\u001b[0m         \u001b[39m\"\u001b[39;49m\u001b[39mpost\u001b[39;49m\u001b[39m\"\u001b[39;49m,\n\u001b[1;32m    157\u001b[0m         url,\n\u001b[1;32m    158\u001b[0m         params\u001b[39m=\u001b[39;49mparams,\n\u001b[1;32m    159\u001b[0m         headers\u001b[39m=\u001b[39;49mheaders,\n\u001b[1;32m    160\u001b[0m         stream\u001b[39m=\u001b[39;49mstream,\n\u001b[1;32m    161\u001b[0m         request_id\u001b[39m=\u001b[39;49mrequest_id,\n\u001b[1;32m    162\u001b[0m         request_timeout\u001b[39m=\u001b[39;49mrequest_timeout,\n\u001b[1;32m    163\u001b[0m     )\n\u001b[1;32m    165\u001b[0m     \u001b[39mif\u001b[39;00m stream:\n\u001b[1;32m    166\u001b[0m         \u001b[39m# must be an iterator\u001b[39;00m\n\u001b[1;32m    167\u001b[0m         \u001b[39massert\u001b[39;00m \u001b[39mnot\u001b[39;00m \u001b[39misinstance\u001b[39m(response, OpenAIResponse)\n",
      "File \u001b[0;32m~/miniforge3/envs/chimiaresearch/lib/python3.10/site-packages/openai/api_requestor.py:299\u001b[0m, in \u001b[0;36mAPIRequestor.request\u001b[0;34m(self, method, url, params, headers, files, stream, request_id, request_timeout)\u001b[0m\n\u001b[1;32m    278\u001b[0m \u001b[39mdef\u001b[39;00m \u001b[39mrequest\u001b[39m(\n\u001b[1;32m    279\u001b[0m     \u001b[39mself\u001b[39m,\n\u001b[1;32m    280\u001b[0m     method,\n\u001b[0;32m   (...)\u001b[0m\n\u001b[1;32m    287\u001b[0m     request_timeout: Optional[Union[\u001b[39mfloat\u001b[39m, Tuple[\u001b[39mfloat\u001b[39m, \u001b[39mfloat\u001b[39m]]] \u001b[39m=\u001b[39m \u001b[39mNone\u001b[39;00m,\n\u001b[1;32m    288\u001b[0m ) \u001b[39m-\u001b[39m\u001b[39m>\u001b[39m Tuple[Union[OpenAIResponse, Iterator[OpenAIResponse]], \u001b[39mbool\u001b[39m, \u001b[39mstr\u001b[39m]:\n\u001b[1;32m    289\u001b[0m     result \u001b[39m=\u001b[39m \u001b[39mself\u001b[39m\u001b[39m.\u001b[39mrequest_raw(\n\u001b[1;32m    290\u001b[0m         method\u001b[39m.\u001b[39mlower(),\n\u001b[1;32m    291\u001b[0m         url,\n\u001b[0;32m   (...)\u001b[0m\n\u001b[1;32m    297\u001b[0m         request_timeout\u001b[39m=\u001b[39mrequest_timeout,\n\u001b[1;32m    298\u001b[0m     )\n\u001b[0;32m--> 299\u001b[0m     resp, got_stream \u001b[39m=\u001b[39m \u001b[39mself\u001b[39;49m\u001b[39m.\u001b[39;49m_interpret_response(result, stream)\n\u001b[1;32m    300\u001b[0m     \u001b[39mreturn\u001b[39;00m resp, got_stream, \u001b[39mself\u001b[39m\u001b[39m.\u001b[39mapi_key\n",
      "File \u001b[0;32m~/miniforge3/envs/chimiaresearch/lib/python3.10/site-packages/openai/api_requestor.py:710\u001b[0m, in \u001b[0;36mAPIRequestor._interpret_response\u001b[0;34m(self, result, stream)\u001b[0m\n\u001b[1;32m    702\u001b[0m     \u001b[39mreturn\u001b[39;00m (\n\u001b[1;32m    703\u001b[0m         \u001b[39mself\u001b[39m\u001b[39m.\u001b[39m_interpret_response_line(\n\u001b[1;32m    704\u001b[0m             line, result\u001b[39m.\u001b[39mstatus_code, result\u001b[39m.\u001b[39mheaders, stream\u001b[39m=\u001b[39m\u001b[39mTrue\u001b[39;00m\n\u001b[1;32m    705\u001b[0m         )\n\u001b[1;32m    706\u001b[0m         \u001b[39mfor\u001b[39;00m line \u001b[39min\u001b[39;00m parse_stream(result\u001b[39m.\u001b[39miter_lines())\n\u001b[1;32m    707\u001b[0m     ), \u001b[39mTrue\u001b[39;00m\n\u001b[1;32m    708\u001b[0m \u001b[39melse\u001b[39;00m:\n\u001b[1;32m    709\u001b[0m     \u001b[39mreturn\u001b[39;00m (\n\u001b[0;32m--> 710\u001b[0m         \u001b[39mself\u001b[39;49m\u001b[39m.\u001b[39;49m_interpret_response_line(\n\u001b[1;32m    711\u001b[0m             result\u001b[39m.\u001b[39;49mcontent\u001b[39m.\u001b[39;49mdecode(\u001b[39m\"\u001b[39;49m\u001b[39mutf-8\u001b[39;49m\u001b[39m\"\u001b[39;49m),\n\u001b[1;32m    712\u001b[0m             result\u001b[39m.\u001b[39;49mstatus_code,\n\u001b[1;32m    713\u001b[0m             result\u001b[39m.\u001b[39;49mheaders,\n\u001b[1;32m    714\u001b[0m             stream\u001b[39m=\u001b[39;49m\u001b[39mFalse\u001b[39;49;00m,\n\u001b[1;32m    715\u001b[0m         ),\n\u001b[1;32m    716\u001b[0m         \u001b[39mFalse\u001b[39;00m,\n\u001b[1;32m    717\u001b[0m     )\n",
      "File \u001b[0;32m~/miniforge3/envs/chimiaresearch/lib/python3.10/site-packages/openai/api_requestor.py:775\u001b[0m, in \u001b[0;36mAPIRequestor._interpret_response_line\u001b[0;34m(self, rbody, rcode, rheaders, stream)\u001b[0m\n\u001b[1;32m    773\u001b[0m stream_error \u001b[39m=\u001b[39m stream \u001b[39mand\u001b[39;00m \u001b[39m\"\u001b[39m\u001b[39merror\u001b[39m\u001b[39m\"\u001b[39m \u001b[39min\u001b[39;00m resp\u001b[39m.\u001b[39mdata\n\u001b[1;32m    774\u001b[0m \u001b[39mif\u001b[39;00m stream_error \u001b[39mor\u001b[39;00m \u001b[39mnot\u001b[39;00m \u001b[39m200\u001b[39m \u001b[39m<\u001b[39m\u001b[39m=\u001b[39m rcode \u001b[39m<\u001b[39m \u001b[39m300\u001b[39m:\n\u001b[0;32m--> 775\u001b[0m     \u001b[39mraise\u001b[39;00m \u001b[39mself\u001b[39m\u001b[39m.\u001b[39mhandle_error_response(\n\u001b[1;32m    776\u001b[0m         rbody, rcode, resp\u001b[39m.\u001b[39mdata, rheaders, stream_error\u001b[39m=\u001b[39mstream_error\n\u001b[1;32m    777\u001b[0m     )\n\u001b[1;32m    778\u001b[0m \u001b[39mreturn\u001b[39;00m resp\n",
      "\u001b[0;31mInvalidRequestError\u001b[0m: This model's maximum context length is 4097 tokens. However, your messages resulted in 4886 tokens. Please reduce the length of the messages."
     ]
    }
   ],
   "source": [
    "agent_chain.run(\"What's the safety summary of aspirin?\")"
   ]
  },
  {
   "cell_type": "code",
   "execution_count": 60,
   "metadata": {},
   "outputs": [
    {
     "name": "stdout",
     "output_type": "stream",
     "text": [
      "\n",
      "\n",
      "\u001b[1m> Entering new AgentExecutor chain...\u001b[0m\n",
      "\u001b[32;1m\u001b[1;3mI need to find the CAS number for aspirin in order to check if it is explosive.\n",
      "Action: Mol2CAS\n",
      "Action Input: Aspirin\u001b[0m"
     ]
    },
    {
     "name": "stderr",
     "output_type": "stream",
     "text": [
      "[18:56:53] SMILES Parse Error: syntax error while parsing: Aspirin\n",
      "[18:56:53] SMILES Parse Error: Failed parsing SMILES 'Aspirin' for input: 'Aspirin'\n"
     ]
    },
    {
     "name": "stdout",
     "output_type": "stream",
     "text": [
      "\n",
      "Observation: \u001b[36;1m\u001b[1;3m50-78-2\u001b[0m\n",
      "Thought:\u001b[32;1m\u001b[1;3mNow that I have the CAS number for aspirin, I can use the ExplosiveCheck tool to determine if it is explosive.\n",
      "Action: ExplosiveCheck\n",
      "Action Input: 50-78-2\u001b[0m"
     ]
    },
    {
     "name": "stderr",
     "output_type": "stream",
     "text": [
      "[18:56:57] SMILES Parse Error: syntax error while parsing: 50-78-2\n",
      "[18:56:57] SMILES Parse Error: Failed parsing SMILES '50-78-2' for input: '50-78-2'\n",
      "[18:56:57] SMILES Parse Error: syntax error while parsing: 50-78-2\n",
      "[18:56:57] SMILES Parse Error: Failed parsing SMILES '50-78-2' for input: '50-78-2'\n"
     ]
    },
    {
     "name": "stdout",
     "output_type": "stream",
     "text": [
      "\n",
      "Observation: \u001b[36;1m\u001b[1;3mMolecule is not known to be explosive.\u001b[0m\n",
      "Thought:\u001b[32;1m\u001b[1;3mI now know the final answer.\n",
      "Final Answer: Aspirin is not explosive.\u001b[0m\n",
      "\n",
      "\u001b[1m> Finished chain.\u001b[0m\n"
     ]
    },
    {
     "data": {
      "text/plain": [
       "'Aspirin is not explosive.'"
      ]
     },
     "execution_count": 60,
     "metadata": {},
     "output_type": "execute_result"
    }
   ],
   "source": [
    "agent_chain.run(\"Is aspirin explosive?\")"
   ]
  },
  {
   "cell_type": "code",
   "execution_count": 61,
   "metadata": {},
   "outputs": [
    {
     "name": "stdout",
     "output_type": "stream",
     "text": [
      "\n",
      "\n",
      "\u001b[1m> Entering new AgentExecutor chain...\u001b[0m\n",
      "\u001b[32;1m\u001b[1;3mI need to find the CAS number for nitroglycerin to check if it is explosive.\n",
      "Action: Mol2CAS\n",
      "Action Input: nitroglycerin\u001b[0m"
     ]
    },
    {
     "name": "stderr",
     "output_type": "stream",
     "text": [
      "[18:57:18] SMILES Parse Error: syntax error while parsing: nitroglycerin\n",
      "[18:57:18] SMILES Parse Error: Failed parsing SMILES 'nitroglycerin' for input: 'nitroglycerin'\n"
     ]
    },
    {
     "name": "stdout",
     "output_type": "stream",
     "text": [
      "\n",
      "Observation: \u001b[36;1m\u001b[1;3m55-63-0\u001b[0m\n",
      "Thought:\u001b[32;1m\u001b[1;3mNow that I have the CAS number for nitroglycerin, I can use the ExplosiveCheck tool to determine if it is explosive.\n",
      "Action: ExplosiveCheck\n",
      "Action Input: 55-63-0\u001b[0m"
     ]
    },
    {
     "name": "stderr",
     "output_type": "stream",
     "text": [
      "[18:57:23] SMILES Parse Error: syntax error while parsing: 55-63-0\n",
      "[18:57:23] SMILES Parse Error: Failed parsing SMILES '55-63-0' for input: '55-63-0'\n",
      "[18:57:23] SMILES Parse Error: syntax error while parsing: 55-63-0\n",
      "[18:57:23] SMILES Parse Error: Failed parsing SMILES '55-63-0' for input: '55-63-0'\n"
     ]
    },
    {
     "name": "stdout",
     "output_type": "stream",
     "text": [
      "\n",
      "Observation: \u001b[36;1m\u001b[1;3mMolecule is explosive\u001b[0m\n",
      "Thought:\u001b[32;1m\u001b[1;3mBased on the observation, nitroglycerin is indeed explosive.\n",
      "Final Answer: Yes, nitroglycerin is explosive.\u001b[0m\n",
      "\n",
      "\u001b[1m> Finished chain.\u001b[0m\n"
     ]
    },
    {
     "data": {
      "text/plain": [
       "'Yes, nitroglycerin is explosive.'"
      ]
     },
     "execution_count": 61,
     "metadata": {},
     "output_type": "execute_result"
    }
   ],
   "source": [
    "# Test with a known explosive\n",
    "agent_chain.run(\"Is nitroglycerin explosive?\")"
   ]
  },
  {
   "cell_type": "code",
   "execution_count": null,
   "metadata": {},
   "outputs": [],
   "source": []
  }
 ],
 "metadata": {
  "kernelspec": {
   "display_name": "chimiaresearch",
   "language": "python",
   "name": "python3"
  },
  "language_info": {
   "codemirror_mode": {
    "name": "ipython",
    "version": 3
   },
   "file_extension": ".py",
   "mimetype": "text/x-python",
   "name": "python",
   "nbconvert_exporter": "python",
   "pygments_lexer": "ipython3",
   "version": "3.10.13"
  },
  "orig_nbformat": 4
 },
 "nbformat": 4,
 "nbformat_minor": 2
}
