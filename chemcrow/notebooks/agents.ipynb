{
 "cells": [
  {
   "cell_type": "code",
   "execution_count": null,
   "metadata": {},
   "outputs": [],
   "source": [
    "# The intention of this notebook is to implement the 12 open-sourced tools from the paper\n",
    "# Augmenting large language models with chemistry tools\n",
    "# https://github.com/ur-whitelab/chemcrow-public.git"
   ]
  },
  {
   "cell_type": "code",
   "execution_count": 14,
   "metadata": {},
   "outputs": [
    {
     "data": {
      "text/plain": [
       "True"
      ]
     },
     "execution_count": 14,
     "metadata": {},
     "output_type": "execute_result"
    }
   ],
   "source": [
    "from dotenv import load_dotenv\n",
    "load_dotenv()"
   ]
  },
  {
   "cell_type": "code",
   "execution_count": 26,
   "metadata": {},
   "outputs": [],
   "source": [
    "# !pip install -r ../requirements.txt\n",
    "# !pip install git+https://github.com/blackadad/paper-scraper.git"
   ]
  },
  {
   "cell_type": "code",
   "execution_count": 23,
   "metadata": {},
   "outputs": [],
   "source": [
    "import os\n",
    "from langchain import SerpAPIWrapper\n",
    "from langchain.tools import BaseTool\n",
    "from langchain.llms import OpenAI\n",
    "from langchain.chat_models import ChatOpenAI\n",
    "from langchain.agents import AgentType, initialize_agent, load_tools\n",
    "from langchain.agents import Tool\n",
    "from langchain_experimental.utilities import PythonREPL"
   ]
  },
  {
   "cell_type": "markdown",
   "metadata": {},
   "source": [
    "#### 1. General - WebSearch"
   ]
  },
  {
   "cell_type": "code",
   "execution_count": 4,
   "metadata": {},
   "outputs": [],
   "source": [
    "def web_search(keywords, search_engine=\"google\"):\n",
    "    try:\n",
    "        return SerpAPIWrapper(\n",
    "            serpapi_api_key=os.getenv(\"SERP_API_KEY\"), search_engine=search_engine\n",
    "        ).run(keywords)\n",
    "    except Exception as e:\n",
    "        print(e)\n",
    "        return \"No results, try another search\""
   ]
  },
  {
   "cell_type": "code",
   "execution_count": 5,
   "metadata": {},
   "outputs": [],
   "source": [
    "class WebSearch(BaseTool):\n",
    "    name = \"WebSearch\"\n",
    "    description = (\n",
    "        \"Input a specific question, returns an answer from literature search. \"\n",
    "        \"Do not mention any specific molecule names, but use more general features to formulate your questions.\"\n",
    "    )\n",
    "    def _run(self, query: str) -> str:\n",
    "        return web_search(query)\n",
    "    async def _arun(self, query: str) -> str:\n",
    "        raise NotImplementedError(\"Async not implemented\")"
   ]
  },
  {
   "cell_type": "code",
   "execution_count": 6,
   "metadata": {},
   "outputs": [],
   "source": [
    "tools = [WebSearch()]\n",
    "llm = ChatOpenAI(\n",
    "    model='gpt-3.5-turbo',\n",
    "    temperature=0.1,\n",
    ")\n",
    "\n",
    "agent = initialize_agent(\n",
    "    llm=llm,\n",
    "    tools=tools,\n",
    "    verbose=True,\n",
    "    agent=AgentType.ZERO_SHOT_REACT_DESCRIPTION\n",
    ")"
   ]
  },
  {
   "cell_type": "code",
   "execution_count": 6,
   "metadata": {},
   "outputs": [
    {
     "name": "stdout",
     "output_type": "stream",
     "text": [
      "\n",
      "\n",
      "\u001b[1m> Entering new AgentExecutor chain...\u001b[0m\n",
      "\u001b[32;1m\u001b[1;3mI should search for the melting point of water.\n",
      "Action: WebSearch\n",
      "Action Input: \"melting point of water\"\u001b[0m\n",
      "Observation: \u001b[36;1m\u001b[1;3m[\"Water is an inorganic compound with the chemical formula H₂O. It is a transparent, tasteless, odorless, and nearly colorless chemical substance, and it is the main constituent of Earth's hydrosphere and the fluids of all known living organisms.\", 'Water type: Compounds.', 'Water density: 997 kg/m³.', 'Water formula: H₂O.', 'Water boiling_point: 212°F (100°C).', 'Water molar_mass: 18.01528 g/mol.', 'Water chem_spider_id: 937.', 'Water classification: Inorganic compound.', 'Water iupac_id: Oxidane, Water.', 'The melting point of water is the temperature at which it changes from solid ice into liquid water. The solid and liquid phase of water are in ...', 'The normal boiling point of water is 100oC because this is the temperature at which the vapor pressure of water is 760 mmHg, or 1 atm. Under normal ...', 'The melting point of water is the temperature where solid ice changes into liquid water, which is 0 °C, 32 °F, or 273 K.', 'The melting point of water is about 32 degrees Fahrenheit (0 degrees Celsius) for pure water at sea level (normal elevation). At other elevations the melting ...', 'The melting point of water is around 32 degrees Fahrenheit (F) or 0 degrees Celsius (C). This temperature changes based on atmospheric pressure.', 'The melting point of ice at 1 atmosphere of pressure is very close to 0 °C (32 °F; 273 K); this is also known as the ice point. In the presence of nucleating ...', 'The boiling point of water is 100 C o . Melting point: It is the temperature at which the solid substance melts and is converted into a liquid ...', 'The boiling point of water is 100 degrees Celsius. Liquid changes into a gas. Freezing point of water. The liquid changes from liquid to solid .', 'The melting point is lowered by 1.85 degrees Celsius if 29.2 grams of salt are dissolved in each Kg of water (called a \"0.5 molal solution\" of salt. The Na and ...']\u001b[0m\n",
      "Thought:\u001b[32;1m\u001b[1;3mI now know the final answer\n",
      "Final Answer: The melting point of water is 0 °C, 32 °F, or 273 K.\u001b[0m\n",
      "\n",
      "\u001b[1m> Finished chain.\u001b[0m\n"
     ]
    },
    {
     "data": {
      "text/plain": [
       "'The melting point of water is 0 °C, 32 °F, or 273 K.'"
      ]
     },
     "execution_count": 6,
     "metadata": {},
     "output_type": "execute_result"
    }
   ],
   "source": [
    "agent.run('what is the melting point of water?')"
   ]
  },
  {
   "cell_type": "markdown",
   "metadata": {},
   "source": [
    "#### 2. General - LitSearch (Literature Search)"
   ]
  },
  {
   "cell_type": "code",
   "execution_count": 1,
   "metadata": {},
   "outputs": [],
   "source": [
    "# Look at litsearch.py for more examples"
   ]
  },
  {
   "cell_type": "markdown",
   "metadata": {},
   "source": [
    "#### 3. General - Python REPL"
   ]
  },
  {
   "cell_type": "code",
   "execution_count": 17,
   "metadata": {},
   "outputs": [
    {
     "data": {
      "text/plain": [
       "'2\\n'"
      ]
     },
     "execution_count": 17,
     "metadata": {},
     "output_type": "execute_result"
    }
   ],
   "source": [
    "python_repl = PythonREPL()\n",
    "python_repl.run(\"print(1+1)\")"
   ]
  },
  {
   "cell_type": "code",
   "execution_count": 18,
   "metadata": {},
   "outputs": [
    {
     "data": {
      "text/plain": [
       "'[[0.91982698 0.10518415 0.59731295]\\n [0.65772039 0.82286631 0.60523723]\\n [0.46525457 0.67607608 0.19111699]]\\n'"
      ]
     },
     "execution_count": 18,
     "metadata": {},
     "output_type": "execute_result"
    }
   ],
   "source": [
    "python_repl.run(\"\"\"import numpy as np\\nprint(np.random.rand(3,3))\"\"\")"
   ]
  },
  {
   "cell_type": "code",
   "execution_count": 19,
   "metadata": {},
   "outputs": [],
   "source": [
    "# You can create the tool to pass to an agent\n",
    "repl_tool = Tool(\n",
    "    name=\"python_repl\",\n",
    "    description=\"A Python shell. Use this to execute python commands. Input should be a valid python command. If you want to see the output of a value, you should print it out with `print(...)`.\",\n",
    "    func=python_repl.run,\n",
    ")"
   ]
  },
  {
   "cell_type": "code",
   "execution_count": 21,
   "metadata": {},
   "outputs": [
    {
     "name": "stdout",
     "output_type": "stream",
     "text": [
      "\n",
      "\n",
      "\u001b[1m> Entering new AgentExecutor chain...\u001b[0m\n",
      "\u001b[32;1m\u001b[1;3mI can define a function that takes two numbers as input and returns their sum.\n",
      "Action: python_repl\n",
      "Action Input: def sum_numbers(a, b):\n",
      "                return a + b\u001b[0m\n",
      "Observation: \u001b[36;1m\u001b[1;3m\u001b[0m\n",
      "Thought:\u001b[32;1m\u001b[1;3mThe function has been defined.\u001b[0m\n",
      "Observation: Invalid Format: Missing 'Action:' after 'Thought:\n",
      "Thought:\u001b[32;1m\u001b[1;3mI need to test the function to see if it works correctly.\n",
      "Action: python_repl\n",
      "Action Input: print(sum_numbers(3, 5))\u001b[0m\n",
      "Observation: \u001b[36;1m\u001b[1;3m8\n",
      "\u001b[0m\n",
      "Thought:\u001b[32;1m\u001b[1;3mThe function seems to be working correctly.\n",
      "Final Answer: The sum of 3 and 5 is 8.\u001b[0m\n",
      "\n",
      "\u001b[1m> Finished chain.\u001b[0m\n"
     ]
    },
    {
     "data": {
      "text/plain": [
       "'The sum of 3 and 5 is 8.'"
      ]
     },
     "execution_count": 21,
     "metadata": {},
     "output_type": "execute_result"
    }
   ],
   "source": [
    "tools = [repl_tool]\n",
    "llm = ChatOpenAI(\n",
    "    model='gpt-3.5-turbo',\n",
    "    temperature=0.1,\n",
    ")\n",
    "\n",
    "agent = initialize_agent(\n",
    "    llm=llm,\n",
    "    tools=tools,\n",
    "    verbose=True,\n",
    "    agent=AgentType.ZERO_SHOT_REACT_DESCRIPTION,\n",
    "    handle_parsing_errors=True\n",
    ")\n",
    "\n",
    "agent.run(\"function to calculate the sum of two numbers\")"
   ]
  },
  {
   "cell_type": "markdown",
   "metadata": {},
   "source": [
    "#### 4. General Search - Human Input"
   ]
  },
  {
   "cell_type": "code",
   "execution_count": 27,
   "metadata": {},
   "outputs": [],
   "source": [
    "llm = ChatOpenAI(temperature=0.0)\n",
    "math_llm = OpenAI(temperature=0.0)\n",
    "tools = load_tools(\n",
    "    [\"human\", \"llm-math\"],\n",
    "    llm=math_llm,\n",
    ")\n",
    "\n",
    "agent_chain = initialize_agent(\n",
    "    tools,\n",
    "    llm,\n",
    "    agent=AgentType.ZERO_SHOT_REACT_DESCRIPTION,\n",
    "    verbose=True,\n",
    ")"
   ]
  },
  {
   "cell_type": "code",
   "execution_count": 29,
   "metadata": {},
   "outputs": [
    {
     "name": "stdout",
     "output_type": "stream",
     "text": [
      "\n",
      "\n",
      "\u001b[1m> Entering new AgentExecutor chain...\u001b[0m\n",
      "\u001b[32;1m\u001b[1;3mI don't have access to personal information about your friend, so I'll need to ask a human for guidance.\n",
      "Action: human\n",
      "Action Input: What is your friend's surname?\u001b[0m\n",
      "\n",
      "What is your friend's surname?\n",
      "\n",
      "Observation: \u001b[36;1m\u001b[1;3mdonk\u001b[0m\n",
      "Thought:\u001b[32;1m\u001b[1;3mI now know my friend's surname is Donk.\n",
      "Final Answer: Donk\u001b[0m\n",
      "\n",
      "\u001b[1m> Finished chain.\u001b[0m\n"
     ]
    },
    {
     "data": {
      "text/plain": [
       "'Donk'"
      ]
     },
     "execution_count": 29,
     "metadata": {},
     "output_type": "execute_result"
    }
   ],
   "source": [
    "agent_chain.run(\"What's my friend Eric's surname?\")"
   ]
  },
  {
   "cell_type": "markdown",
   "metadata": {},
   "source": [
    "#### "
   ]
  },
  {
   "cell_type": "code",
   "execution_count": null,
   "metadata": {},
   "outputs": [],
   "source": []
  }
 ],
 "metadata": {
  "kernelspec": {
   "display_name": "chimiaresearch",
   "language": "python",
   "name": "python3"
  },
  "language_info": {
   "codemirror_mode": {
    "name": "ipython",
    "version": 3
   },
   "file_extension": ".py",
   "mimetype": "text/x-python",
   "name": "python",
   "nbconvert_exporter": "python",
   "pygments_lexer": "ipython3",
   "version": "3.10.13"
  },
  "orig_nbformat": 4
 },
 "nbformat": 4,
 "nbformat_minor": 2
}
