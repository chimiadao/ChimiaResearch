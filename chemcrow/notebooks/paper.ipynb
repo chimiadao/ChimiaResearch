{
 "cells": [
  {
   "cell_type": "code",
   "execution_count": 1,
   "metadata": {},
   "outputs": [],
   "source": [
    "from dotenv import load_dotenv\n",
    "load_dotenv()\n",
    "from IPython.display import display, HTML, Markdown"
   ]
  },
  {
   "cell_type": "markdown",
   "metadata": {},
   "source": [
    "### Summary of the paper"
   ]
  },
  {
   "cell_type": "code",
   "execution_count": 3,
   "metadata": {},
   "outputs": [],
   "source": [
    "from langchain.docstore.document import Document\n",
    "from langchain.document_loaders.pdf import PyPDFLoader\n",
    "from langchain.chat_models import ChatOpenAI\n",
    "from langchain.chains.summarize import load_summarize_chain\n",
    "from langchain.chains import  LLMChain\n",
    "from langchain.prompts import PromptTemplate"
   ]
  },
  {
   "cell_type": "code",
   "execution_count": 4,
   "metadata": {},
   "outputs": [],
   "source": [
    "pdf_path = '/Users/arshath/play/chimiadao/ChimiaResearch/propositional-retrieval/notebooks/pdfs/Augmenting large language models with chemistry tools.pdf'\n",
    "\n",
    "pdf_loader = PyPDFLoader(pdf_path)\n",
    "docs = pdf_loader.load()\n",
    "\n",
    "# Combine all the documents into a single document\n",
    "text = \"\"\n",
    "for doc in docs:\n",
    "    text += doc.page_content\n",
    "\n",
    "doc = [Document(\n",
    "    page_content=text,\n",
    "    metadata={\n",
    "        'source': pdf_path.split('/')[-1],\n",
    "    }\n",
    ")]"
   ]
  },
  {
   "cell_type": "code",
   "execution_count": 5,
   "metadata": {},
   "outputs": [],
   "source": [
    "llm = ChatOpenAI(\n",
    "    model='gpt-4-1106-preview',\n",
    "    temperature=0.,\n",
    ")\n",
    "\n",
    "chain = load_summarize_chain(llm)\n",
    "summary = chain(doc)"
   ]
  },
  {
   "cell_type": "code",
   "execution_count": 6,
   "metadata": {},
   "outputs": [
    {
     "data": {
      "text/html": [
       "The study introduces ChemCrow, an augmented large language model (LLM) chemistry agent that integrates 18 expert-designed computational chemistry tools to enhance LLM performance in tasks related to organic synthesis, drug discovery, and materials design. ChemCrow demonstrates its capabilities by autonomously planning and executing syntheses of various compounds, including an insect repellent and organocatalysts, and by guiding the discovery of a novel chromophore. The agent's effectiveness is evaluated through both LLM and expert assessments, revealing its ability to automate diverse chemical tasks and its potential as a tool for both expert chemists and non-experts. The study also highlights the limitations of using GPT-4 alone for scientific applications, as it struggles with chemistry-related problems and lacks access to external knowledge sources. The publicly available code for ChemCrow can be found on GitHub, and the study emphasizes the importance of integrating computational tools into a single platform to overcome steep learning curves and fully exploit their potential."
      ],
      "text/plain": [
       "<IPython.core.display.HTML object>"
      ]
     },
     "execution_count": 6,
     "metadata": {},
     "output_type": "execute_result"
    }
   ],
   "source": [
    "HTML(summary['output_text'])"
   ]
  },
  {
   "cell_type": "code",
   "execution_count": 12,
   "metadata": {},
   "outputs": [],
   "source": [
    "prompt = \"\"\"\n",
    "You are an expert Chemist. You answer questions about chemistry research papers. You are given the context (the research paper) and a question.\n",
    "You answer the question using the context.\n",
    "Please do not answer questions that you do not know the answer to.\n",
    "Output format should be in Markdown.\n",
    "\n",
    "```context: {context}```\n",
    "```question: {question}```\n",
    "```answer:\n",
    "\"\"\"\n",
    "\n",
    "\n",
    "llm = ChatOpenAI(\n",
    "    model='gpt-4-1106-preview',\n",
    "    temperature=0.,\n",
    ")\n",
    "\n",
    "chain = LLMChain(\n",
    "    llm=llm,\n",
    "    prompt=PromptTemplate.from_template(prompt),\n",
    ")"
   ]
  },
  {
   "cell_type": "code",
   "execution_count": 13,
   "metadata": {},
   "outputs": [],
   "source": [
    "def ask(question):\n",
    "    return chain.run(\n",
    "        context=doc,\n",
    "        question=question,\n",
    "    )"
   ]
  },
  {
   "cell_type": "code",
   "execution_count": 15,
   "metadata": {},
   "outputs": [
    {
     "data": {
      "text/markdown": [
       "Augmenting large language models with chemistry tools"
      ],
      "text/plain": [
       "<IPython.core.display.Markdown object>"
      ]
     },
     "execution_count": 15,
     "metadata": {},
     "output_type": "execute_result"
    }
   ],
   "source": [
    "Markdown(ask('What is the name of the paper?'))"
   ]
  },
  {
   "cell_type": "code",
   "execution_count": 16,
   "metadata": {},
   "outputs": [
    {
     "data": {
      "text/markdown": [
       "The 18 expert-designed tools mentioned in the paper are classified into general tools, molecule tools, safety tools, and chemical reaction tools. They are as follows:\n",
       "\n",
       "### General Tools:\n",
       "1. **WebSearch**: Uses SerpAPI to query search engines and compile impressions from Google search results.\n",
       "2. **LitSearch**: Extracts information from scientific documents to provide accurate answers.\n",
       "3. **Python REPL**: Provides a functional Python shell for running Python code.\n",
       "4. **Human**: Direct interface for human interaction, allowing the engine to ask questions and expect responses from the user.\n",
       "\n",
       "### Molecule Tools:\n",
       "5. **Name2SMILES**: Converts the name or CAS number of a molecule to its SMILES representation.\n",
       "6. **SMILES2Price**: Provides information on the commercial cost and availability of a specific molecule.\n",
       "7. **Name2CAS**: Determines the CAS number of a molecule from various identifiers.\n",
       "8. **Similarity**: Evaluates the similarity between two molecules using the Tanimoto similarity measure.\n",
       "9. **ModifyMol**: Makes alterations to a given molecule to generate a local chemical space around it.\n",
       "10. **PatentCheck**: Checks if a molecule has been patented.\n",
       "11. **FuncGroups**: Identifies functional groups within a molecule.\n",
       "\n",
       "### Safety Tools:\n",
       "12. **ControlledChemicalCheck**: Checks against lists of recognized Chemical Weapons and Precursors to ensure safety.\n",
       "13. **ExplosiveCheck**: Identifies explosive molecules using the GHS system.\n",
       "14. **SafetySummary**: Provides a general safety overview for any given molecule.\n",
       "\n",
       "### Chemical Reaction Tools:\n",
       "15. **NameRXN**: Identifies and classifies chemical reactions based on a database of named reactions.\n",
       "16. **ReactionPredict**: Predicts chemical reactions using the RXN4Chemistry API.\n",
       "17. **ReactionPlanner**: Assists in planning a synthetic route for a desired target molecule.\n",
       "18. **ReactionExecute**: Allows direct interaction with a robotic chemistry lab platform for planning, adapting, and executing syntheses.\n",
       "\n",
       "These tools are integrated into the ChemCrow platform to enhance its capabilities in automating a diverse set of chemical tasks."
      ],
      "text/plain": [
       "<IPython.core.display.Markdown object>"
      ]
     },
     "execution_count": 16,
     "metadata": {},
     "output_type": "execute_result"
    }
   ],
   "source": [
    "Markdown(ask('What are the 18 expert designed tools mentioneed in the paper?'))"
   ]
  },
  {
   "cell_type": "code",
   "execution_count": 17,
   "metadata": {},
   "outputs": [
    {
     "data": {
      "text/markdown": [
       "### General Tools\n",
       "\n",
       "The general tools described in the research paper are designed to augment the capabilities of large language models (LLMs) like GPT-4, enabling them to perform a variety of tasks that require external information or specific functionalities. Here's a detailed explanation of each general tool:\n",
       "\n",
       "#### WebSearch\n",
       "- **Purpose**: To provide the LLM with the ability to access and retrieve information from the web.\n",
       "- **Functionality**: It uses SerpAPI to perform searches on search engines and compiles impressions from the first page of Google search results.\n",
       "- **Usage**: It acts as a starting point when the LLM encounters a query it cannot address or is unsure of the appropriate tool to use. It helps the LLM to expand its knowledge base and verify the accuracy of the information it provides.\n",
       "\n",
       "#### LitSearch\n",
       "- **Purpose**: To extract relevant information from scientific documents to provide accurate answers to questions.\n",
       "- **Functionality**: It uses the paper-qa python package, OpenAI Embeddings, and FAISS to embed and search through documents efficiently. A language model generates answers based on embedded vectors.\n",
       "- **Usage**: It embeds documents and queries into vectors, searches for the top passages, and creates summaries of these passages in relation to the query. These summaries are then used by the LLM to generate informed answers, with references to relevant papers.\n",
       "\n",
       "#### Python REPL\n",
       "- **Purpose**: To provide the LLM with a functional Python shell for writing and running Python code.\n",
       "- **Functionality**: It enables the LLM to perform numerical computations, train AI models, and conduct data analysis directly within the Python environment.\n",
       "- **Usage**: It is used for tasks that require the execution of Python code, such as data manipulation or running algorithms that are not natively supported by the LLM.\n",
       "\n",
       "#### Human\n",
       "- **Purpose**: To serve as a direct interface for human interaction with the LLM.\n",
       "- **Functionality**: It allows the LLM to ask a question and expect a response from the user.\n",
       "- **Usage**: It is used when the LLM encounters difficulty or uncertainty and needs human input. It can also be used to give users more control over the LLM's actions by instructing it to request permission for certain tasks.\n",
       "\n",
       "These general tools are integrated into the LLM through the LangChain framework, which facilitates the development of language model applications and supports the integration of external tools. By using these tools, the LLM can perform tasks that go beyond its native capabilities, such as accessing up-to-date information from the web, processing scientific literature, executing Python code, and interacting with humans for guidance and decision-making."
      ],
      "text/plain": [
       "<IPython.core.display.Markdown object>"
      ]
     },
     "execution_count": 17,
     "metadata": {},
     "output_type": "execute_result"
    }
   ],
   "source": [
    "Markdown(ask('please explain the general tools in detail?'))"
   ]
  },
  {
   "cell_type": "code",
   "execution_count": 20,
   "metadata": {},
   "outputs": [
    {
     "data": {
      "text/markdown": [
       "### Chemistry Reaction Tools\n",
       "\n",
       "ChemCrow integrates several chemistry reaction tools to enhance its capabilities in predicting and planning chemical reactions. Here's a detailed explanation of the reaction tools mentioned in the context:\n",
       "\n",
       "#### NameRXN\n",
       "- **Purpose**: To identify and classify chemical reactions based on a database of named reactions.\n",
       "- **Functionality**: Given a reaction SMILES string, NameRXN returns a classification code and the name of the reaction in natural language.\n",
       "- **Application**: Helps in understanding reaction mechanisms, selecting catalysts, and optimizing experimental conditions.\n",
       "\n",
       "#### ReactionPredict\n",
       "- **Purpose**: To predict the outcome of chemical reactions using a machine learning model.\n",
       "- **Functionality**: Utilizes the RXN4Chemistry API from IBM Research, which is based on the Molecular Transformer model, to predict the product of a given set of reactants.\n",
       "- **Application**: Provides accurate chemical reaction predictions that are not readily available from databases, simulating the abstract reasoning of chemists.\n",
       "\n",
       "#### ReactionPlanner\n",
       "- **Purpose**: To assist in planning multi-step synthetic routes for desired target molecules.\n",
       "- **Functionality**: Employs the RXN4Chemistry API to generate a sequence of reactions leading to the target molecule, including conditions, additives, and solvents.\n",
       "- **Application**: Aids in devising efficient synthetic pathways and translating machine-readable actions into natural language for better understanding.\n",
       "\n",
       "#### ReactionExecute\n",
       "- **Purpose**: To enable direct interaction with the physical world through a robotic chemistry lab platform.\n",
       "- **Functionality**: Plans, adapts, and executes the synthesis of a given molecule using the RXN4Chemistry API. It iteratively adapts the synthesis procedure based on the platform's feedback until the procedure is valid for execution.\n",
       "- **Application**: Allows for the autonomous execution of standardized synthesis procedures on a robotic platform, reducing human intervention and lab safety concerns.\n",
       "\n",
       "These tools collectively enhance ChemCrow's ability to autonomously predict and plan chemical syntheses, bridging the gap between computational predictions and experimental execution. They provide the LLM with a deeper understanding of chemistry and the ability to interact with the physical world, making it a powerful assistant for chemists."
      ],
      "text/plain": [
       "<IPython.core.display.Markdown object>"
      ]
     },
     "execution_count": 20,
     "metadata": {},
     "output_type": "execute_result"
    }
   ],
   "source": [
    "Markdown(ask('Please explain the chemistry reaction tools in detail?'))"
   ]
  },
  {
   "cell_type": "code",
   "execution_count": 22,
   "metadata": {},
   "outputs": [
    {
     "data": {
      "text/markdown": [
       "The safety tools integrated into ChemCrow are designed to assess the potential risks associated with chemical substances and reactions. These tools help ensure that the recommendations provided by the LLM are not only chemically accurate but also safe for practical implementation. Here's a detailed explanation of each safety tool:\n",
       "\n",
       "### ControlledChemicalCheck\n",
       "- **Purpose**: To prevent the recommendation or use of chemicals that are regulated or banned due to their potential use in chemical weapons.\n",
       "- **Function**: Checks a molecule's CAS number against lists of recognized Chemical Weapons and Precursors, such as those from the Organisation for the Prohibition of Chemical Weapons (Schedules 1-3) and The Australia Group's Export Control List.\n",
       "- **Action**: If a molecule is found on these lists, the agent immediately stops execution and does not proceed with any synthesis or recommendation involving the controlled substance.\n",
       "\n",
       "### ExplosiveCheck\n",
       "- **Purpose**: To identify molecules that are classified as explosives and could pose a significant safety risk if handled improperly.\n",
       "- **Function**: Queries the PubChem database using molecular identifiers (common name, IUPAC name, or CAS number) to determine if a molecule has a Globally Harmonized System (GHS) rating of \"Explosive\".\n",
       "- **Action**: If a molecule is confirmed to be explosive, ChemCrow provides an appropriate warning or error to the user, thereby mitigating the risk associated with handling such substances.\n",
       "\n",
       "### SafetySummary\n",
       "- **Purpose**: To provide a comprehensive safety overview of any given molecule, including operational safety, environmental risks, and societal impact.\n",
       "- **Function**: Gathers safety information from the PubChem database and uses an LLM as an interface to highlight key safety aspects:\n",
       "  - **Operational Safety**: Potential risks to the operator, such as health concerns when handling the substance.\n",
       "  - **GHS Information**: General hazards and recommendations for handling the substance.\n",
       "  - **Environmental Risks**: Concerns about the environmental impact of handling the substance and recommendations for safe disposal.\n",
       "  - **Societal Impact**: Checks if the substance is a known controlled chemical.\n",
       "- **Action**: Provides safety guidelines and recommendations for handling the substance. If no information is available, the LLM can fill in the gaps with general safety advice, explicitly stating the lack of specific data.\n",
       "\n",
       "These safety tools are crucial for responsible chemistry practice, as they help users avoid working with hazardous or illegal substances and ensure adherence to safety protocols."
      ],
      "text/plain": [
       "<IPython.core.display.Markdown object>"
      ]
     },
     "execution_count": 22,
     "metadata": {},
     "output_type": "execute_result"
    }
   ],
   "source": [
    "Markdown(ask('Please explain the safety tools in detail?'))"
   ]
  },
  {
   "cell_type": "code",
   "execution_count": 23,
   "metadata": {},
   "outputs": [
    {
     "data": {
      "text/markdown": [
       "The molecule tools described in the research paper are specialized computational utilities designed to perform specific tasks related to molecular structures. These tools are integrated into the ChemCrow platform to enhance its capabilities in handling chemistry-related problems. Here's a detailed explanation of each molecule tool:\n",
       "\n",
       "### Name2SMILES\n",
       "- **Purpose**: Converts the name or CAS number of a molecule into its SMILES (Simplified Molecular Input Line Entry System) representation.\n",
       "- **Functionality**: Users can input a molecule's common name, IUPAC name, or CAS number, and the tool returns the corresponding SMILES string. It primarily queries chem-space and, if unsuccessful, resorts to PubChem and OPSIN for conversion.\n",
       "\n",
       "### SMILES2Price\n",
       "- **Purpose**: Provides information on the commercial availability and price of a molecule.\n",
       "- **Functionality**: Takes a molecule's SMILES string, checks its availability for purchase using molbloom (against the ZINC database), and then retrieves the lowest market price from chem-space API.\n",
       "\n",
       "### Name2CAS\n",
       "- **Purpose**: Determines the CAS (Chemical Abstracts Service) number of a molecule.\n",
       "- **Functionality**: Accepts various molecular identifiers and queries the PubChem database to return the unique CAS number, facilitating precise information retrieval.\n",
       "\n",
       "### Similarity\n",
       "- **Purpose**: Evaluates the structural similarity between two molecules.\n",
       "- **Functionality**: Receives two molecules and calculates the Tanimoto similarity based on ECFP2 molecular fingerprints, aiding in the assessment of molecular analogs.\n",
       "\n",
       "### ModifyMol\n",
       "- **Purpose**: Generates modifications to a given molecule to explore similar structures.\n",
       "- **Functionality**: Uses the SynSpace package to apply medchem reactions and create a local chemical space around the input molecule, returning a modified molecule based on retrosynthesis rules.\n",
       "\n",
       "### PatentCheck\n",
       "- **Purpose**: Checks if a molecule has been patented.\n",
       "- **Functionality**: Uses molbloom to assess compounds against known databases like ZINC, informing the user if a patent exists for the molecule in question.\n",
       "\n",
       "### FuncGroups\n",
       "- **Purpose**: Identifies functional groups within a molecule.\n",
       "- **Functionality**: Analyzes a molecule's SMILES string against a list of named SMARTS patterns to list the functional groups present, crucial for understanding reactivity and properties.\n",
       "\n",
       "### SMILES2Weight\n",
       "- **Purpose**: Calculates the molecular weight of a molecule.\n",
       "- **Functionality**: Takes a SMILES string and uses RDKit to compute the exact molecular weight.\n",
       "\n",
       "These molecule tools are essential for ChemCrow to autonomously perform tasks such as molecular analysis, similarity assessment, and modification, which are fundamental in various chemical applications like drug discovery and materials science. Integrating these tools with an LLM like GPT-4 allows ChemCrow to handle complex chemistry tasks more effectively by providing accurate molecular information and enabling the exploration of chemical spaces."
      ],
      "text/plain": [
       "<IPython.core.display.Markdown object>"
      ]
     },
     "execution_count": 23,
     "metadata": {},
     "output_type": "execute_result"
    }
   ],
   "source": [
    "Markdown(ask('Please explain the molecule tools in detail?'))"
   ]
  },
  {
   "cell_type": "code",
   "execution_count": 24,
   "metadata": {},
   "outputs": [
    {
     "data": {
      "text/markdown": [
       "The LLMs used in the study were GPT-4 and an evaluator LLM, which is also based on GPT-4 but used for evaluation purposes. The parameters used for GPT-4 were a temperature of 0.1. Specific parameters for the evaluator LLM are not detailed in the provided context, but it is mentioned that it was adapted to give a grade based on whether the task is addressed or not, and whether the overall thought process is correct."
      ],
      "text/plain": [
       "<IPython.core.display.Markdown object>"
      ]
     },
     "execution_count": 24,
     "metadata": {},
     "output_type": "execute_result"
    }
   ],
   "source": [
    "Markdown(ask('What LLMs were used and what were the parameters used for each?'))"
   ]
  },
  {
   "cell_type": "code",
   "execution_count": 25,
   "metadata": {},
   "outputs": [
    {
     "data": {
      "text/markdown": [
       "### Methods\n",
       "\n",
       "#### 5.1 LLMs\n",
       "Large Language Models (LLMs) have seen rapid advancement and scaling, leading to a variety of applications. The study utilized OpenAI's GPT-4 with a temperature setting of 0.1 to ensure predictable and conservative behavior.\n",
       "\n",
       "#### 5.2 LLMs application framework – LangChain\n",
       "LangChain is a framework that supports the development of language model applications. It provides modules for LLMs, prompts, document loaders, chains, indexes, agents, memory, and chat functionality. LangChain was used to integrate external tools with LLMs, allowing for better performance by leveraging the zero-shot reasoning capabilities of LLMs.\n",
       "\n",
       "#### 5.3 Tools\n",
       "The study implemented a set of tools categorized into general tools, molecule tools, and chemical reaction tools. These tools are integrated into the LLM to enhance its capabilities in chemistry-related tasks.\n",
       "\n",
       "##### 5.3.1 General tools\n",
       "- **WebSearch**: Uses SerpAPI to query search engines and compile information from the web.\n",
       "- **LitSearch**: Extracts information from scientific documents to provide accurate answers.\n",
       "- **Python REPL**: Provides a Python shell for the LLM to run Python code.\n",
       "- **Human**: Allows direct interaction with users for guidance and permission.\n",
       "\n",
       "##### 5.3.2 Molecule tools\n",
       "- **Name2SMILES**: Converts molecule names to SMILES strings.\n",
       "- **SMILES2Price**: Provides information on the commercial cost of molecules.\n",
       "- **Name2CAS**: Determines the CAS number of molecules.\n",
       "- **Similarity**: Evaluates the similarity between two molecules using the Tanimoto measure.\n",
       "- **ModifyMol**: Generates a local chemical space around a molecule using synthesis rules.\n",
       "- **PatentCheck**: Checks if a molecule has been patented.\n",
       "- **FuncGroups**: Identifies functional groups within a molecule.\n",
       "\n",
       "##### 5.3.3 Safety tools\n",
       "- **ControlledChemicalCheck**: Checks against lists of recognized Chemical Weapons and Precursors.\n",
       "- **ExplosiveCheck**: Identifies explosive molecules using the GHS.\n",
       "- **SafetySummary**: Provides a general safety overview for any given molecule.\n",
       "\n",
       "##### 5.3.4 Chemical reaction tools\n",
       "- **NameRXN**: Identifies and classifies chemical reactions.\n",
       "- **ReactionPredict**: Predicts chemical reactions using the RXN4Chemistry API.\n",
       "- **ReactionPlanner**: Assists in planning synthetic routes for target molecules.\n",
       "- **ReactionExecute**: Allows interaction with a robotic chemistry lab platform.\n",
       "\n",
       "#### Data & Code availability\n",
       "The experiments and an open-source version of the ChemCrow platform, including the main agent setup and a subset of 12 tools, are available on GitHub.\n",
       "\n",
       "#### Acknowledgements\n",
       "The study acknowledges support from various institutions and thanks the RXN for Chemistry team for their support and access to the platform for executing the reported syntheses.\n",
       "\n",
       "### References\n",
       "The document lists a comprehensive set of references that support the methodologies and tools used in the study."
      ],
      "text/plain": [
       "<IPython.core.display.Markdown object>"
      ]
     },
     "execution_count": 25,
     "metadata": {},
     "output_type": "execute_result"
    }
   ],
   "source": [
    "Markdown(ask('Could you explain the methods used in this study in great detail?'))"
   ]
  },
  {
   "cell_type": "code",
   "execution_count": null,
   "metadata": {},
   "outputs": [],
   "source": []
  }
 ],
 "metadata": {
  "kernelspec": {
   "display_name": "chimiaresearch",
   "language": "python",
   "name": "python3"
  },
  "language_info": {
   "codemirror_mode": {
    "name": "ipython",
    "version": 3
   },
   "file_extension": ".py",
   "mimetype": "text/x-python",
   "name": "python",
   "nbconvert_exporter": "python",
   "pygments_lexer": "ipython3",
   "version": "3.10.13"
  },
  "orig_nbformat": 4
 },
 "nbformat": 4,
 "nbformat_minor": 2
}
